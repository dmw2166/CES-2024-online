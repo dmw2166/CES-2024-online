{
 "cells": [
  {
   "cell_type": "code",
   "execution_count": 1,
   "id": "c28e41ed-b2df-401f-bc77-66146207daef",
   "metadata": {},
   "outputs": [],
   "source": [
    "import numpy as np\n",
    "from matplotlib import pyplot as plt\n",
    "import pandas as pd"
   ]
  },
  {
   "cell_type": "code",
   "execution_count": 5,
   "id": "b4ce84d2-ac2e-4be9-8431-6a2c45dc9291",
   "metadata": {},
   "outputs": [],
   "source": [
    "x = np.linspace(-2,2,100)\n",
    "y = np.linspace(-2,2,100)\n",
    "xx,yy = np.meshgrid(x,y)"
   ]
  },
  {
   "cell_type": "code",
   "execution_count": 7,
   "id": "fc788ec6-8fe1-42b9-9333-ca73bbf32baa",
   "metadata": {},
   "outputs": [
    {
     "name": "stdout",
     "output_type": "stream",
     "text": [
      "[[-2.         -1.95959596 -1.91919192 ...  1.91919192  1.95959596\n",
      "   2.        ]\n",
      " [-2.         -1.95959596 -1.91919192 ...  1.91919192  1.95959596\n",
      "   2.        ]\n",
      " [-2.         -1.95959596 -1.91919192 ...  1.91919192  1.95959596\n",
      "   2.        ]\n",
      " ...\n",
      " [-2.         -1.95959596 -1.91919192 ...  1.91919192  1.95959596\n",
      "   2.        ]\n",
      " [-2.         -1.95959596 -1.91919192 ...  1.91919192  1.95959596\n",
      "   2.        ]\n",
      " [-2.         -1.95959596 -1.91919192 ...  1.91919192  1.95959596\n",
      "   2.        ]]\n"
     ]
    }
   ],
   "source": [
    "print(xx)"
   ]
  },
  {
   "cell_type": "code",
   "execution_count": 8,
   "id": "eb2da812-b185-49bb-bea0-4498dd324975",
   "metadata": {},
   "outputs": [
    {
     "name": "stdout",
     "output_type": "stream",
     "text": [
      "[[-2.         -2.         -2.         ... -2.         -2.\n",
      "  -2.        ]\n",
      " [-1.95959596 -1.95959596 -1.95959596 ... -1.95959596 -1.95959596\n",
      "  -1.95959596]\n",
      " [-1.91919192 -1.91919192 -1.91919192 ... -1.91919192 -1.91919192\n",
      "  -1.91919192]\n",
      " ...\n",
      " [ 1.91919192  1.91919192  1.91919192 ...  1.91919192  1.91919192\n",
      "   1.91919192]\n",
      " [ 1.95959596  1.95959596  1.95959596 ...  1.95959596  1.95959596\n",
      "   1.95959596]\n",
      " [ 2.          2.          2.         ...  2.          2.\n",
      "   2.        ]]\n"
     ]
    }
   ],
   "source": [
    "print(yy)"
   ]
  },
  {
   "cell_type": "code",
   "execution_count": null,
   "id": "940e11f8-bb85-4064-a8ed-541bbb24e76f",
   "metadata": {},
   "outputs": [],
   "source": []
  }
 ],
 "metadata": {
  "kernelspec": {
   "display_name": "pangeo23",
   "language": "python",
   "name": "pangeo23"
  },
  "language_info": {
   "codemirror_mode": {
    "name": "ipython",
    "version": 3
   },
   "file_extension": ".py",
   "mimetype": "text/x-python",
   "name": "python",
   "nbconvert_exporter": "python",
   "pygments_lexer": "ipython3",
   "version": "3.11.6"
  }
 },
 "nbformat": 4,
 "nbformat_minor": 5
}
