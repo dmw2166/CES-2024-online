{
 "cells": [
  {
   "cell_type": "code",
   "execution_count": 1,
   "id": "f371f385-95e1-4005-ab91-9ce8e5690b54",
   "metadata": {},
   "outputs": [],
   "source": [
    "import numpy as np"
   ]
  },
  {
   "cell_type": "code",
   "execution_count": 2,
   "id": "0438bc4c-9920-4e93-9134-652ca8e0e63a",
   "metadata": {},
   "outputs": [],
   "source": [
    "solarconstant = 1366 #W/m2\n",
    "albedo = 0.3\n",
    "stefanboltzman = 5.670374419e-8 #W/m2/K4"
   ]
  },
  {
   "cell_type": "markdown",
   "id": "c1f1b893-35dc-4c9d-b052-5f9d0fed94c5",
   "metadata": {},
   "source": [
    "![image.png](attachment:fb0c2beb-0c3a-44c3-821d-2ff8ee3f9836.png)"
   ]
  },
  {
   "cell_type": "code",
   "execution_count": 4,
   "id": "f3deb45d-cedd-4c9a-8a5a-118e7b737d67",
   "metadata": {},
   "outputs": [],
   "source": [
    "Te = (solarconstant*(1-albedo)/(4*stefanboltzman))**(1/4)"
   ]
  },
  {
   "cell_type": "code",
   "execution_count": 5,
   "id": "0821cf84-da56-4d05-a6c5-0312b1fcde70",
   "metadata": {},
   "outputs": [
    {
     "name": "stdout",
     "output_type": "stream",
     "text": [
      "Average temperature of the earth is 254.8116 Kelvin or -18.3384 deg C\n"
     ]
    }
   ],
   "source": [
    "print(\"Average temperature of the earth is %0.4f Kelvin or %0.4f deg C\" % (Te, Te-273.15))"
   ]
  },
  {
   "cell_type": "code",
   "execution_count": 12,
   "id": "18ba110a-3736-4e82-87b6-9637682bc1b7",
   "metadata": {},
   "outputs": [],
   "source": [
    "epsilon = 0.78\n",
    "T_s = ((solarconstant*(1-albedo) /4) / (stefanboltzman*(1-epsilon/2))) ** (1/4)\n",
    "T_a = (epsilon*stefanboltzman*T_s**4 / (2*stefanboltzman)) ** (1/4)"
   ]
  },
  {
   "cell_type": "code",
   "execution_count": 8,
   "id": "909036c3-5b7c-4e63-a3dc-61e5857bf220",
   "metadata": {},
   "outputs": [
    {
     "name": "stdout",
     "output_type": "stream",
     "text": [
      "Average temperature of the earth is 288.3280 Kelvin or 15.1780 deg C\n"
     ]
    }
   ],
   "source": [
    "print(\"Average temperature of the earth is %0.4f Kelvin or %0.4f deg C\" % (T_s, T_s-273.15))"
   ]
  },
  {
   "cell_type": "code",
   "execution_count": 13,
   "id": "a89fda1f-b848-4b93-8b45-aa49bf785e21",
   "metadata": {},
   "outputs": [
    {
     "data": {
      "text/plain": [
       "0.016732901066722455"
      ]
     },
     "execution_count": 13,
     "metadata": {},
     "output_type": "execute_result"
    }
   ],
   "source": [
    "deleps = -4 / (stefanboltzman* T_a**4 - stefanboltzman*T_s**4)\n",
    "deleps"
   ]
  },
  {
   "cell_type": "code",
   "execution_count": 14,
   "id": "65a362db-1d6b-4ca0-97db-811a3f975ef5",
   "metadata": {},
   "outputs": [
    {
     "data": {
      "text/plain": [
       "0.7967329010667225"
      ]
     },
     "execution_count": 14,
     "metadata": {},
     "output_type": "execute_result"
    }
   ],
   "source": [
    "neweps = epsilon + deleps\n",
    "neweps"
   ]
  },
  {
   "cell_type": "code",
   "execution_count": 15,
   "id": "b8499107-3bd2-4fe6-b8fb-2405b4d8bd38",
   "metadata": {},
   "outputs": [
    {
     "name": "stdout",
     "output_type": "stream",
     "text": [
      "Average temperature of the earth is 289.3252 Kelvin or 16.1752 deg C\n"
     ]
    }
   ],
   "source": [
    "T_s_new = ((solarconstant*(1-albedo) /4) / (stefanboltzman*(1-neweps/2))) ** (1/4)\n",
    "print(\"Average temperature of the earth is %0.4f Kelvin or %0.4f deg C\" % (T_s_new, T_s_new-273.15))"
   ]
  },
  {
   "cell_type": "code",
   "execution_count": 16,
   "id": "8ccf025b-0e85-40e5-bd4e-ec7d844ab051",
   "metadata": {},
   "outputs": [
    {
     "name": "stdout",
     "output_type": "stream",
     "text": [
      "0.9972030491054511\n"
     ]
    }
   ],
   "source": [
    "warming = T_s_new - T_s\n",
    "print(warming)"
   ]
  },
  {
   "cell_type": "code",
   "execution_count": 17,
   "id": "e6b2d109-8edc-4c93-9e19-8fb086d220b3",
   "metadata": {},
   "outputs": [],
   "source": [
    "from matplotlib import pyplot as plt\n",
    "from scipy.integrate import solve_ivp"
   ]
  },
  {
   "cell_type": "code",
   "execution_count": 35,
   "id": "b23f64e9-4b45-44e5-9e48-4d3b11dfec41",
   "metadata": {},
   "outputs": [],
   "source": [
    "M = 1\n",
    "solarconstant = 1366\n",
    "albedo = 0.3\n",
    "stefanboltzman = 5.670374419e-8\n",
    "heatcapacity = 4.0e8 #J/m2/K"
   ]
  },
  {
   "cell_type": "code",
   "execution_count": 36,
   "id": "b2fe8b70-82e6-42c6-b442-c4ef7b6a82c1",
   "metadata": {},
   "outputs": [],
   "source": [
    "u = np.zeros((M,))\n",
    "\n",
    "def myfun(t, u): \n",
    "    f = np.zeros((M,))\n",
    "    f[0] = (solarconstant*(1-albedo)/4 - stefanboltzman*(u[0]**4))/heatcapacity\n",
    "    return f"
   ]
  },
  {
   "cell_type": "code",
   "execution_count": 33,
   "id": "929692cb-76e4-4255-9ac8-f09abed7e467",
   "metadata": {},
   "outputs": [],
   "source": [
    "u0 = np.zeros((M,))\n",
    "t0 = 0.0\n",
    "\n",
    "Dt = 60*60*365*24\n",
    "tmax = 100*Dt\n",
    "t = np.arange(t0,tmax,Dt)\n",
    "N = np.shape(t)[0]"
   ]
  },
  {
   "cell_type": "code",
   "execution_count": 34,
   "id": "89bfc80b-b2fc-4af2-b117-106af3d23a4f",
   "metadata": {},
   "outputs": [],
   "source": [
    "sol = solve_ivp(myfun, [t0,tmax],u0, method='RK45', t_eval = t)"
   ]
  },
  {
   "cell_type": "code",
   "execution_count": 37,
   "id": "563246a8-8c9e-40df-9939-32a96cc6606e",
   "metadata": {},
   "outputs": [
    {
     "data": {
      "text/plain": [
       "Text(0, 0.5, 'Temperature (K)')"
      ]
     },
     "execution_count": 37,
     "metadata": {},
     "output_type": "execute_result"
    },
    {
     "data": {
      "image/png": "[encoded data removed]",
      "text/plain": [
       "<Figure size 640x480 with 1 Axes>"
      ]
     },
     "metadata": {},
     "output_type": "display_data"
    }
   ],
   "source": [
    "fig = plt.figure()\n",
    "plt.plot(sol.t/(60*60*365*24),sol.y[0],'k-')\n",
    "plt.xlabel('time (year)')\n",
    "plt.ylabel('Temperature (K)')"
   ]
  },
  {
   "cell_type": "code",
   "execution_count": 38,
   "id": "c3e17ebb-ca33-48c9-9a40-dbc3b803e786",
   "metadata": {},
   "outputs": [],
   "source": [
    "M = 2 \n",
    "#u[0] is Ta\n",
    "#u[1] is Ts\n",
    "\n",
    "def myfun( t, u): \n",
    "    f = np.zeros((M,))\n",
    "    f[0] = (solarconstant * (1-albedo)/4 - epsilon*stefanboltzman*(u[0]**4) \n",
    "            - (1-epsilon)*stefanboltzman*(u[1]**4))/heatcapacity\n",
    "    f[1] = (solarconstant * (1-albedo)/4 + epsilon*stefanbolzman*(u[0]**4) - \n",
    "            stefanboltzman*(u[1]**4))/heatcapacity\n",
    "    return f\n",
    "    "
   ]
  },
  {
   "cell_type": "code",
   "execution_count": null,
   "id": "5e917194-09a7-48a8-9b37-a2ea72b4c6f8",
   "metadata": {},
   "outputs": [],
   "source": []
  }
 ],
 "metadata": {
  "kernelspec": {
   "display_name": "pangeo23",
   "language": "python",
   "name": "pangeo23"
  },
  "language_info": {
   "codemirror_mode": {
    "name": "ipython",
    "version": 3
   },
   "file_extension": ".py",
   "mimetype": "text/x-python",
   "name": "python",
   "nbconvert_exporter": "python",
   "pygments_lexer": "ipython3",
   "version": "3.11.6"
  }
 },
 "nbformat": 4,
 "nbformat_minor": 5
}
