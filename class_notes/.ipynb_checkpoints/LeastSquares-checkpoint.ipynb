{
 "cells": [
  {
   "cell_type": "code",
   "execution_count": 1,
   "id": "101cfa20-cffb-4acf-b2b2-c1c0c4969bc9",
   "metadata": {},
   "outputs": [],
   "source": [
    "import numpy as np                    # matrices & etc\n",
    "from matplotlib import pyplot as plt  # general plotting \n",
    "import scipy.linalg as la       "
   ]
  },
  {
   "cell_type": "markdown",
   "id": "e1cf92ff-2a87-49d1-af13-374f59ae52ef",
   "metadata": {},
   "source": [
    "### do this with python (numpy) and linear algebra"
   ]
  },
  {
   "cell_type": "code",
   "execution_count": 2,
   "id": "66490713-65f1-4278-be37-59635c154e50",
   "metadata": {},
   "outputs": [],
   "source": [
    "test_data = np.genfromtxt('/data9/UN3400/data/LS_test_data.txt', delimiter='\\t')\n",
    "N, i = np.shape(test_data) # get number of data points (rows) and i (Columns)"
   ]
  },
  {
   "cell_type": "code",
   "execution_count": 3,
   "id": "3db34198-294c-4d3b-936f-7bedc3350563",
   "metadata": {},
   "outputs": [
    {
     "data": {
      "text/plain": [
       "array([[0.        , 0.47417147],\n",
       "       [0.1       , 0.58643956],\n",
       "       [0.2       , 0.73873309],\n",
       "       [0.3       , 0.91399716],\n",
       "       [0.4       , 0.88277852],\n",
       "       [0.5       , 1.16527602],\n",
       "       [0.6       , 1.27499279],\n",
       "       [0.7       , 1.43132115],\n",
       "       [0.8       , 1.77207039],\n",
       "       [0.9       , 1.92082211],\n",
       "       [1.        , 2.29870771]])"
      ]
     },
     "execution_count": 3,
     "metadata": {},
     "output_type": "execute_result"
    }
   ],
   "source": [
    "test_data"
   ]
  },
  {
   "cell_type": "code",
   "execution_count": 4,
   "id": "8bcc3bc5-bb47-4e12-a985-1794c75584d4",
   "metadata": {},
   "outputs": [
    {
     "data": {
      "text/plain": [
       "array([[0.47417147],\n",
       "       [0.58643956],\n",
       "       [0.73873309],\n",
       "       [0.91399716],\n",
       "       [0.88277852],\n",
       "       [1.16527602],\n",
       "       [1.27499279],\n",
       "       [1.43132115],\n",
       "       [1.77207039],\n",
       "       [1.92082211],\n",
       "       [2.29870771]])"
      ]
     },
     "execution_count": 4,
     "metadata": {},
     "output_type": "execute_result"
    }
   ],
   "source": [
    "#get individual columns\n",
    "t = test_data[:,0:1]  \n",
    "#specifying it this way gives you a column vector,keeps it 2D\n",
    "dobs = test_data[:,1:2]\n",
    "dobs"
   ]
  },
  {
   "cell_type": "code",
   "execution_count": 5,
   "id": "244df0a8-a537-471c-8087-d553b9b13321",
   "metadata": {},
   "outputs": [
    {
     "data": {
      "text/plain": [
       "array([[1. , 0. ],\n",
       "       [1. , 0.1],\n",
       "       [1. , 0.2],\n",
       "       [1. , 0.3],\n",
       "       [1. , 0.4],\n",
       "       [1. , 0.5],\n",
       "       [1. , 0.6],\n",
       "       [1. , 0.7],\n",
       "       [1. , 0.8],\n",
       "       [1. , 0.9],\n",
       "       [1. , 1. ]])"
      ]
     },
     "execution_count": 5,
     "metadata": {},
     "output_type": "execute_result"
    }
   ],
   "source": [
    "#set up a linear model\n",
    "M = 2; # number of terms in the polynomial\n",
    "# create G\n",
    "G = np.zeros((N,M))\n",
    "G[0:N,0:1] = np.ones((N,1))\n",
    "G[0:N,1:2] = t\n",
    "G"
   ]
  },
  {
   "attachments": {
    "48f36136-66a3-4ee8-a26c-422e6baea8e7.png": {
     "image/png": "[encoded data removed]"
    }
   },
   "cell_type": "markdown",
   "id": "ea96c7b3-390b-49d2-8962-f5382e99466e",
   "metadata": {},
   "source": [
    "![image.png](attachment:48f36136-66a3-4ee8-a26c-422e6baea8e7.png)\r\n"
   ]
  },
  {
   "cell_type": "code",
   "execution_count": 6,
   "id": "5d77fa10-3d1a-4a54-b266-2adae617406c",
   "metadata": {},
   "outputs": [
    {
     "name": "stdout",
     "output_type": "stream",
     "text": [
      "[[0.36052429]\n",
      " [1.72609869]]\n",
      "[[0.36052429]\n",
      " [1.72609869]]\n"
     ]
    }
   ],
   "source": [
    "# basic least squares\n",
    "GTG = np.matmul(G.T,G)\n",
    "GTd = np.matmul(G.T,dobs)\n",
    "mest = la.solve(GTG,GTd)    #ax = b, x = b/a\n",
    "print(mest)\n",
    "\n",
    "mest_other = np.linalg.lstsq(GTG, GTd,rcond=None)[0]  #also can solve it this way\n",
    "print(mest_other)"
   ]
  },
  {
   "cell_type": "code",
   "execution_count": 7,
   "id": "e896f456-dbf4-43f4-863f-974f877871bb",
   "metadata": {},
   "outputs": [],
   "source": [
    "dpre = np.matmul(G,mest)              # prediction\n",
    "e = dobs-dpre                         # prediction error\n",
    "sigmad2pos = np.matmul(e.T,e)/(N-M)   # posterior variance of data\n",
    "Cd = sigmad2pos*la.inv(GTG)           # posterior covariance of model parameters\n",
    "sm = np.sqrt( np.diag(Cd).reshape(-1,1))  # stadard error of model parameters"
   ]
  },
  {
   "cell_type": "code",
   "execution_count": 8,
   "id": "d6442288-6ae3-4a9e-a16b-73ff576df1ea",
   "metadata": {},
   "outputs": [
    {
     "name": "stdout",
     "output_type": "stream",
     "text": [
      "estimated standard deviation of the data 0.1199\n",
      " \n",
      "estimated solution\n",
      "model parameter 0: 0.3605 +/- 0.1352 (95)\n",
      "model parameter 1: 1.7261 +/- 0.2286 (95)\n"
     ]
    },
    {
     "name": "stderr",
     "output_type": "stream",
     "text": [
      "/tmp/ipykernel_15261/1089935478.py:1: DeprecationWarning: Conversion of an array with ndim > 0 to a scalar is deprecated, and will error in future. Ensure you extract a single element from your array before performing this operation. (Deprecated NumPy 1.25.)\n",
      "  print(\"estimated standard deviation of the data %.4f\" % (np.sqrt(sigmad2pos)) );\n"
     ]
    }
   ],
   "source": [
    "print(\"estimated standard deviation of the data %.4f\" % (np.sqrt(sigmad2pos)) );\n",
    "print(\" \");\n",
    "\n",
    "print(\"estimated solution\");\n",
    "for i in range(M):\n",
    "    print(\"model parameter %d: %.4f +/- %.4f (95)\" % (i,mest[i,0],2.0*sm[i,0]) );\n"
   ]
  },
  {
   "cell_type": "code",
   "execution_count": 9,
   "id": "a7895f98-62e1-4608-9438-7597e81cf105",
   "metadata": {},
   "outputs": [
    {
     "data": {
      "image/png": "[encoded data removed]",
      "text/plain": [
       "<Figure size 640x480 with 1 Axes>"
      ]
     },
     "metadata": {},
     "output_type": "display_data"
    }
   ],
   "source": [
    "#plot data and model\n",
    "fig,ax = plt.subplots()\n",
    "plt.axis( [np.min(t), np.max(t), -4, 4])\n",
    "plt.plot(t,dpre,'k-')\n",
    "plt.plot(t,dobs,'ro')\n",
    "plt.xlabel('t')\n",
    "plt.ylabel('d')\n",
    "plt.title('data: observed (black), predicted (red)');"
   ]
  },
  {
   "cell_type": "code",
   "execution_count": 10,
   "id": "9a67e3df-8046-4654-9841-27ead6b52f02",
   "metadata": {},
   "outputs": [
    {
     "data": {
      "text/plain": [
       "Text(0.5, 1.0, 'prediction error')"
      ]
     },
     "execution_count": 10,
     "metadata": {},
     "output_type": "execute_result"
    },
    {
     "data": {
      "image/png": "[encoded data removed]",
      "text/plain": [
       "<Figure size 640x480 with 1 Axes>"
      ]
     },
     "metadata": {},
     "output_type": "display_data"
    }
   ],
   "source": [
    "#plot errors\n",
    "fig,ax = plt.subplots()\n",
    "absmaxe = np.max(np.abs(e))\n",
    "plt.axis( [np.min(t), np.max(t), -2*absmaxe, 2*absmaxe])\n",
    "plt.plot(t,e,'k',marker='o')\n",
    "plt.xlabel('x')\n",
    "plt.ylabel('e')\n",
    "plt.title('prediction error')"
   ]
  },
  {
   "cell_type": "code",
   "execution_count": 11,
   "id": "dd0ea576-65d1-4315-ba73-16f388fc2da3",
   "metadata": {},
   "outputs": [
    {
     "data": {
      "image/png": "[encoded data removed]",
      "text/plain": [
       "<Figure size 640x480 with 1 Axes>"
      ]
     },
     "metadata": {},
     "output_type": "display_data"
    }
   ],
   "source": [
    "#plot the parameters\n",
    "fig,ax = plt.subplots()\n",
    "ival = np.arange(0,i+1)\n",
    "ival_vert = ival[:,np.newaxis]\n",
    "plt.plot(ival_vert,mest,'ro')\n",
    "for j in range(len(mest)):\n",
    "    plt.plot( [j,j], [mest[j]-2.0*sm[j],mest[j]+2.0*sm[j]], 'g-')\n",
    "plt.xlabel('i')\n",
    "plt.ylabel('m')\n",
    "plt.axis( [-1, len(mest), 0, 2]);\n",
    "plt.title('model parameters: true (black), estimated (red), 95 percent confidence (green)');\n"
   ]
  },
  {
   "cell_type": "markdown",
   "id": "2911d614-7427-41db-8cd7-983ff7816232",
   "metadata": {},
   "source": [
    "### do this with SciPy in an easier way"
   ]
  },
  {
   "cell_type": "code",
   "execution_count": 12,
   "id": "05a44072-3366-485a-9e04-2c90f3b405af",
   "metadata": {},
   "outputs": [],
   "source": [
    "from scipy import optimize\n",
    "\n",
    "def linfunc(x, a, b):\n",
    "    y = a*x + b\n",
    "    return y"
   ]
  },
  {
   "cell_type": "code",
   "execution_count": 13,
   "id": "8bf85d18-2aee-49fa-a3a2-adc25e2070e7",
   "metadata": {},
   "outputs": [
    {
     "name": "stdout",
     "output_type": "stream",
     "text": [
      "[1.72609869 0.36052429]\n"
     ]
    }
   ],
   "source": [
    "mest_ez = optimize.curve_fit(linfunc, xdata = test_data[:,0], ydata = test_data[:,1])[0]\n",
    "print(mest_ez)"
   ]
  },
  {
   "cell_type": "markdown",
   "id": "02f4d536-5555-4ff8-807f-336ab4bb501f",
   "metadata": {},
   "source": [
    "### do this with pandas and statsmodel"
   ]
  },
  {
   "cell_type": "code",
   "execution_count": 14,
   "id": "f17f3b0f-73af-45df-991a-e90f621f9930",
   "metadata": {},
   "outputs": [],
   "source": [
    "import pandas as pd\n",
    "import statsmodels.api as smod"
   ]
  },
  {
   "cell_type": "code",
   "execution_count": 15,
   "id": "cc91c08c-ef1b-4319-af98-82ab0494d39d",
   "metadata": {},
   "outputs": [],
   "source": [
    "df = pd.read_csv('/data9/UN3400/data/LS_test_data.txt',sep='\\t',header=None,names = ['t','dobs'])"
   ]
  },
  {
   "cell_type": "code",
   "execution_count": 16,
   "id": "2e475241-e119-4743-a4f7-145c8213ed67",
   "metadata": {},
   "outputs": [
    {
     "data": {
      "text/html": [
       "<div>\n",
       "<style scoped>\n",
       "    .dataframe tbody tr th:only-of-type {\n",
       "        vertical-align: middle;\n",
       "    }\n",
       "\n",
       "    .dataframe tbody tr th {\n",
       "        vertical-align: top;\n",
       "    }\n",
       "\n",
       "    .dataframe thead th {\n",
       "        text-align: right;\n",
       "    }\n",
       "</style>\n",
       "<table border=\"1\" class=\"dataframe\">\n",
       "  <thead>\n",
       "    <tr style=\"text-align: right;\">\n",
       "      <th></th>\n",
       "      <th>t</th>\n",
       "      <th>dobs</th>\n",
       "    </tr>\n",
       "  </thead>\n",
       "  <tbody>\n",
       "    <tr>\n",
       "      <th>0</th>\n",
       "      <td>0.0</td>\n",
       "      <td>0.474171</td>\n",
       "    </tr>\n",
       "    <tr>\n",
       "      <th>1</th>\n",
       "      <td>0.1</td>\n",
       "      <td>0.586440</td>\n",
       "    </tr>\n",
       "    <tr>\n",
       "      <th>2</th>\n",
       "      <td>0.2</td>\n",
       "      <td>0.738733</td>\n",
       "    </tr>\n",
       "    <tr>\n",
       "      <th>3</th>\n",
       "      <td>0.3</td>\n",
       "      <td>0.913997</td>\n",
       "    </tr>\n",
       "    <tr>\n",
       "      <th>4</th>\n",
       "      <td>0.4</td>\n",
       "      <td>0.882779</td>\n",
       "    </tr>\n",
       "    <tr>\n",
       "      <th>5</th>\n",
       "      <td>0.5</td>\n",
       "      <td>1.165276</td>\n",
       "    </tr>\n",
       "    <tr>\n",
       "      <th>6</th>\n",
       "      <td>0.6</td>\n",
       "      <td>1.274993</td>\n",
       "    </tr>\n",
       "    <tr>\n",
       "      <th>7</th>\n",
       "      <td>0.7</td>\n",
       "      <td>1.431321</td>\n",
       "    </tr>\n",
       "    <tr>\n",
       "      <th>8</th>\n",
       "      <td>0.8</td>\n",
       "      <td>1.772070</td>\n",
       "    </tr>\n",
       "    <tr>\n",
       "      <th>9</th>\n",
       "      <td>0.9</td>\n",
       "      <td>1.920822</td>\n",
       "    </tr>\n",
       "    <tr>\n",
       "      <th>10</th>\n",
       "      <td>1.0</td>\n",
       "      <td>2.298708</td>\n",
       "    </tr>\n",
       "  </tbody>\n",
       "</table>\n",
       "</div>"
      ],
      "text/plain": [
       "      t      dobs\n",
       "0   0.0  0.474171\n",
       "1   0.1  0.586440\n",
       "2   0.2  0.738733\n",
       "3   0.3  0.913997\n",
       "4   0.4  0.882779\n",
       "5   0.5  1.165276\n",
       "6   0.6  1.274993\n",
       "7   0.7  1.431321\n",
       "8   0.8  1.772070\n",
       "9   0.9  1.920822\n",
       "10  1.0  2.298708"
      ]
     },
     "execution_count": 16,
     "metadata": {},
     "output_type": "execute_result"
    }
   ],
   "source": [
    "df"
   ]
  },
  {
   "cell_type": "code",
   "execution_count": 17,
   "id": "f947920a-0ee3-4b55-9702-5e1b203c98d1",
   "metadata": {},
   "outputs": [
    {
     "data": {
      "text/plain": [
       "array([[1. , 0. ],\n",
       "       [1. , 0.1],\n",
       "       [1. , 0.2],\n",
       "       [1. , 0.3],\n",
       "       [1. , 0.4],\n",
       "       [1. , 0.5],\n",
       "       [1. , 0.6],\n",
       "       [1. , 0.7],\n",
       "       [1. , 0.8],\n",
       "       [1. , 0.9],\n",
       "       [1. , 1. ]])"
      ]
     },
     "execution_count": 17,
     "metadata": {},
     "output_type": "execute_result"
    }
   ],
   "source": [
    "tp = np.array(df['t'])\n",
    "tp = smod.add_constant(tp)\n",
    "tp\n"
   ]
  },
  {
   "cell_type": "code",
   "execution_count": 18,
   "id": "2a9b7c26-1afd-47b8-8efd-1db88941aecc",
   "metadata": {},
   "outputs": [],
   "source": [
    "result = smod.OLS(df['dobs'],tp).fit()"
   ]
  },
  {
   "cell_type": "code",
   "execution_count": 19,
   "id": "28805d55-c043-42af-af6d-d6efeee13524",
   "metadata": {},
   "outputs": [
    {
     "name": "stdout",
     "output_type": "stream",
     "text": [
      "                            OLS Regression Results                            \n",
      "==============================================================================\n",
      "Dep. Variable:                   dobs   R-squared:                       0.962\n",
      "Model:                            OLS   Adj. R-squared:                  0.958\n",
      "Method:                 Least Squares   F-statistic:                     228.0\n",
      "Date:                Mon, 14 Oct 2024   Prob (F-statistic):           1.06e-07\n",
      "Time:                        23:06:59   Log-Likelihood:                 8.8287\n",
      "No. Observations:                  11   AIC:                            -13.66\n",
      "Df Residuals:                       9   BIC:                            -12.86\n",
      "Df Model:                           1                                         \n",
      "Covariance Type:            nonrobust                                         \n",
      "==============================================================================\n",
      "                 coef    std err          t      P>|t|      [0.025      0.975]\n",
      "------------------------------------------------------------------------------\n",
      "const          0.3605      0.068      5.331      0.000       0.208       0.514\n",
      "x1             1.7261      0.114     15.101      0.000       1.468       1.985\n",
      "==============================================================================\n",
      "Omnibus:                        0.064   Durbin-Watson:                   1.027\n",
      "Prob(Omnibus):                  0.968   Jarque-Bera (JB):                0.224\n",
      "Skew:                           0.138   Prob(JB):                        0.894\n",
      "Kurtosis:                       2.358   Cond. No.                         4.02\n",
      "==============================================================================\n",
      "\n",
      "Notes:\n",
      "[1] Standard Errors assume that the covariance matrix of the errors is correctly specified.\n"
     ]
    },
    {
     "name": "stderr",
     "output_type": "stream",
     "text": [
      "/opt/sw/anaconda3/2023.09/envs/pangeo23/lib/python3.11/site-packages/scipy/stats/_stats_py.py:1971: UserWarning: kurtosistest only valid for n>=20 ... continuing anyway, n=11\n",
      "  k, _ = kurtosistest(a, axis)\n"
     ]
    }
   ],
   "source": [
    "print(result.summary())"
   ]
  },
  {
   "cell_type": "markdown",
   "id": "dc217674-8af2-43bc-b9bc-72c5226f6947",
   "metadata": {},
   "source": [
    "### what about a nonlinear model"
   ]
  },
  {
   "cell_type": "code",
   "execution_count": 20,
   "id": "d2025c63-eab5-46cb-b256-bbeba7f552ab",
   "metadata": {},
   "outputs": [],
   "source": [
    "#set up a polynomial model\n",
    "M = 4; # number of terms in the polynomial\n",
    "# create G\n",
    "G = np.zeros((N,M))\n",
    "G[0:N,0:1] = np.ones((N,1))\n",
    "G[0:N,1:2] = t\n",
    "G[0:N,2:3] = t**2\n",
    "G[0:N,3:4] = t**3"
   ]
  },
  {
   "cell_type": "code",
   "execution_count": 21,
   "id": "da9f1e7f-c0c7-4825-a0a6-fda378277cf1",
   "metadata": {},
   "outputs": [
    {
     "name": "stdout",
     "output_type": "stream",
     "text": [
      "[[ 0.47133853]\n",
      " [ 1.41342438]\n",
      " [-0.87831665]\n",
      " [ 1.28339544]]\n",
      "[[ 0.47133853]\n",
      " [ 1.41342438]\n",
      " [-0.87831665]\n",
      " [ 1.28339544]]\n"
     ]
    }
   ],
   "source": [
    "# basic least squares\n",
    "GTG = np.matmul(G.T,G)\n",
    "GTd = np.matmul(G.T,dobs)\n",
    "mest = la.solve(GTG,GTd)    #ax = b, x = b/a\n",
    "print(mest)\n",
    "\n",
    "mest_other = np.linalg.lstsq(GTG, GTd,rcond=None)[0]  #also can solve it this way\n",
    "print(mest_other)"
   ]
  },
  {
   "cell_type": "code",
   "execution_count": 22,
   "id": "897ccb77-0cb4-426d-959b-feb9ba1dc1e6",
   "metadata": {},
   "outputs": [],
   "source": [
    "dpre = np.matmul(G,mest)              # prediction\n",
    "e = dobs-dpre                         # prediction error\n",
    "sigmad2pos = np.matmul(e.T,e)/(N-M)   # posterior variance of data\n",
    "Cd = sigmad2pos*la.inv(GTG)           # posterior covariance of model parameters\n",
    "sm = np.sqrt( np.diag(Cd).reshape(-1,1))  # stadard error of model parameters"
   ]
  },
  {
   "cell_type": "code",
   "execution_count": 23,
   "id": "73145ada-36f4-475f-9f39-bec25c4211a4",
   "metadata": {},
   "outputs": [
    {
     "name": "stdout",
     "output_type": "stream",
     "text": [
      "estimated standard deviation of the data 0.0600\n",
      " \n",
      "estimated solution\n",
      "model parameter 0: 0.4713 +/- 0.1066 (95)\n",
      "model parameter 1: 1.4134 +/- 0.9707 (95)\n",
      "model parameter 2: -0.8783 +/- 2.3248 (95)\n",
      "model parameter 3: 1.2834 +/- 1.5257 (95)\n"
     ]
    },
    {
     "name": "stderr",
     "output_type": "stream",
     "text": [
      "/tmp/ipykernel_15261/1089935478.py:1: DeprecationWarning: Conversion of an array with ndim > 0 to a scalar is deprecated, and will error in future. Ensure you extract a single element from your array before performing this operation. (Deprecated NumPy 1.25.)\n",
      "  print(\"estimated standard deviation of the data %.4f\" % (np.sqrt(sigmad2pos)) );\n"
     ]
    }
   ],
   "source": [
    "print(\"estimated standard deviation of the data %.4f\" % (np.sqrt(sigmad2pos)) );\n",
    "print(\" \");\n",
    "\n",
    "print(\"estimated solution\");\n",
    "for i in range(M):\n",
    "    print(\"model parameter %d: %.4f +/- %.4f (95)\" % (i,mest[i,0],2.0*sm[i,0]) );\n"
   ]
  },
  {
   "cell_type": "code",
   "execution_count": 25,
   "id": "57abd492-9707-42a6-820b-544e11fc9be8",
   "metadata": {},
   "outputs": [
    {
     "data": {
      "image/png": "[encoded data removed]",
      "text/plain": [
       "<Figure size 640x480 with 1 Axes>"
      ]
     },
     "metadata": {},
     "output_type": "display_data"
    }
   ],
   "source": [
    "#plot data and model\n",
    "fig,ax = plt.subplots()\n",
    "plt.axis( [np.min(t), np.max(t), -4, 4])\n",
    "plt.plot(t,dpre,'k-')\n",
    "plt.plot(t,dobs,'ro')\n",
    "plt.xlabel('t')\n",
    "plt.ylabel('d')\n",
    "plt.title('data: observed (black), predicted (red)');"
   ]
  },
  {
   "cell_type": "code",
   "execution_count": null,
   "id": "bc3cf468-207c-416a-a144-6aad2a560bb6",
   "metadata": {},
   "outputs": [],
   "source": []
  }
 ],
 "metadata": {
  "kernelspec": {
   "display_name": "pangeo23",
   "language": "python",
   "name": "pangeo23"
  },
  "language_info": {
   "codemirror_mode": {
    "name": "ipython",
    "version": 3
   },
   "file_extension": ".py",
   "mimetype": "text/x-python",
   "name": "python",
   "nbconvert_exporter": "python",
   "pygments_lexer": "ipython3",
   "version": "3.11.6"
  }
 },
 "nbformat": 4,
 "nbformat_minor": 5
}
