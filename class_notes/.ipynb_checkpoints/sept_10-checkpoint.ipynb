{
 "cells": [
  {
   "cell_type": "markdown",
   "id": "4bb88cd7-3723-446c-a031-cc7cf7dbfa05",
   "metadata": {},
   "source": [
    "# Python fundamentals"
   ]
  },
  {
   "cell_type": "code",
   "execution_count": 1,
   "id": "9b3f4654-f886-486e-84e4-af90b0c02b9e",
   "metadata": {},
   "outputs": [
    {
     "data": {
      "text/plain": [
       "-3"
      ]
     },
     "execution_count": 1,
     "metadata": {},
     "output_type": "execute_result"
    }
   ],
   "source": [
    "1+1-5"
   ]
  },
  {
   "cell_type": "code",
   "execution_count": 1,
   "id": "10bdfdbf-0a59-48a2-9058-ca3f0910d951",
   "metadata": {},
   "outputs": [
    {
     "data": {
      "text/plain": [
       "2"
      ]
     },
     "execution_count": 1,
     "metadata": {},
     "output_type": "execute_result"
    }
   ],
   "source": [
    "1+1"
   ]
  },
  {
   "cell_type": "code",
   "execution_count": 2,
   "id": "c3b3b54a-f5c7-4020-ab87-3bba438c53e7",
   "metadata": {},
   "outputs": [
    {
     "data": {
      "text/plain": [
       "50"
      ]
     },
     "execution_count": 2,
     "metadata": {},
     "output_type": "execute_result"
    }
   ],
   "source": [
    "5*10"
   ]
  },
  {
   "cell_type": "code",
   "execution_count": 3,
   "id": "9b012d29-9956-44ab-beeb-a7b309707037",
   "metadata": {},
   "outputs": [
    {
     "data": {
      "text/plain": [
       "0.5"
      ]
     },
     "execution_count": 3,
     "metadata": {},
     "output_type": "execute_result"
    }
   ],
   "source": [
    "1/2"
   ]
  },
  {
   "cell_type": "code",
   "execution_count": 6,
   "id": "75267215-5701-4f86-853e-1af0b2fc846b",
   "metadata": {},
   "outputs": [
    {
     "name": "stdout",
     "output_type": "stream",
     "text": [
      "0.3333333333333333\n"
     ]
    }
   ],
   "source": [
    "a = 1/3\n",
    "print(a)"
   ]
  },
  {
   "cell_type": "code",
   "execution_count": 7,
   "id": "cd1060f2-6c6a-439b-b983-5f763c7286a4",
   "metadata": {},
   "outputs": [
    {
     "data": {
      "text/plain": [
       "float"
      ]
     },
     "execution_count": 7,
     "metadata": {},
     "output_type": "execute_result"
    }
   ],
   "source": [
    "type(a)"
   ]
  },
  {
   "cell_type": "code",
   "execution_count": 8,
   "id": "1c36c8a8-b208-4cfe-b5f1-c155ba82bdf7",
   "metadata": {},
   "outputs": [],
   "source": [
    "b = 'hello'"
   ]
  },
  {
   "cell_type": "code",
   "execution_count": 9,
   "id": "33bbd4fe-3f12-4fe9-be08-b866c4895e1b",
   "metadata": {},
   "outputs": [],
   "source": [
    "b = \"hello\""
   ]
  },
  {
   "cell_type": "code",
   "execution_count": 12,
   "id": "26b30e52-3074-4d86-9d94-659c52e196a5",
   "metadata": {},
   "outputs": [
    {
     "name": "stdout",
     "output_type": "stream",
     "text": [
      "hello\n"
     ]
    }
   ],
   "source": [
    "print(b)"
   ]
  },
  {
   "cell_type": "code",
   "execution_count": 13,
   "id": "6d672481-e8a8-41b5-b415-fbd003ce65a1",
   "metadata": {},
   "outputs": [
    {
     "name": "stdout",
     "output_type": "stream",
     "text": [
      "0.3333333333333333 hello\n"
     ]
    }
   ],
   "source": [
    "print(a,b)"
   ]
  },
  {
   "cell_type": "code",
   "execution_count": 14,
   "id": "271bb3dc-2984-468c-a424-a55ccd4d2692",
   "metadata": {},
   "outputs": [
    {
     "data": {
      "text/plain": [
       "str"
      ]
     },
     "execution_count": 14,
     "metadata": {},
     "output_type": "execute_result"
    }
   ],
   "source": [
    "type(b)"
   ]
  },
  {
   "cell_type": "code",
   "execution_count": 15,
   "id": "f5badb99-274c-426c-b1c8-8280c517b147",
   "metadata": {},
   "outputs": [
    {
     "data": {
      "text/plain": [
       "1"
      ]
     },
     "execution_count": 15,
     "metadata": {},
     "output_type": "execute_result"
    }
   ],
   "source": [
    "b.rfind('e')"
   ]
  },
  {
   "cell_type": "code",
   "execution_count": 16,
   "id": "b357fb6a-ceb4-4c13-ada1-a16790b06f07",
   "metadata": {},
   "outputs": [
    {
     "data": {
      "text/plain": [
       "0"
      ]
     },
     "execution_count": 16,
     "metadata": {},
     "output_type": "execute_result"
    }
   ],
   "source": [
    "b.rfind('h')"
   ]
  },
  {
   "cell_type": "code",
   "execution_count": 21,
   "id": "4d23ab99-9434-45df-8196-c9b2f8690711",
   "metadata": {},
   "outputs": [
    {
     "data": {
      "text/plain": [
       "\u001b[0;31mDocstring:\u001b[0m\n",
       "S.rfind(sub[, start[, end]]) -> int\n",
       "\n",
       "Return the highest index in S where substring sub is found,\n",
       "such that sub is contained within S[start:end].  Optional\n",
       "arguments start and end are interpreted as in slice notation.\n",
       "\n",
       "Return -1 on failure.\n",
       "\u001b[0;31mType:\u001b[0m      builtin_function_or_method"
      ]
     },
     "metadata": {},
     "output_type": "display_data"
    }
   ],
   "source": [
    "b.rfind?"
   ]
  },
  {
   "cell_type": "code",
   "execution_count": 22,
   "id": "e468e9f3-f2db-4c77-8180-8dcee770311a",
   "metadata": {},
   "outputs": [
    {
     "data": {
      "text/plain": [
       "int"
      ]
     },
     "execution_count": 22,
     "metadata": {},
     "output_type": "execute_result"
    }
   ],
   "source": [
    "c = 1\n",
    "type(c)"
   ]
  },
  {
   "cell_type": "code",
   "execution_count": 23,
   "id": "7deec119-9cbc-4380-b84d-8520ad935475",
   "metadata": {},
   "outputs": [
    {
     "data": {
      "text/plain": [
       "float"
      ]
     },
     "execution_count": 23,
     "metadata": {},
     "output_type": "execute_result"
    }
   ],
   "source": [
    "d = 1.0\n",
    "type(d)"
   ]
  },
  {
   "cell_type": "markdown",
   "id": "6826a6a9-c232-4725-aa51-66818f3ad8eb",
   "metadata": {},
   "source": [
    "## flow control"
   ]
  },
  {
   "cell_type": "code",
   "execution_count": 30,
   "id": "e2e31cf9-ee78-4ca7-84d2-12afe60c3d6e",
   "metadata": {},
   "outputs": [
    {
     "name": "stdout",
     "output_type": "stream",
     "text": [
      "Positive number\n"
     ]
    }
   ],
   "source": [
    "x = 99\n",
    "if x > 0:\n",
    "    print('Positive number')\n",
    "    if x >= 100:\n",
    "        print('large number')\n",
    "elif x < 0:\n",
    "    print('Negative number')\n",
    "else: \n",
    "    print('zero')\n",
    "    "
   ]
  },
  {
   "cell_type": "code",
   "execution_count": 31,
   "id": "5cb5b613-25a8-4142-b1f3-52cca8d9ccef",
   "metadata": {},
   "outputs": [
    {
     "data": {
      "text/plain": [
       "range(0, 5)"
      ]
     },
     "execution_count": 31,
     "metadata": {},
     "output_type": "execute_result"
    }
   ],
   "source": [
    "range(5)"
   ]
  },
  {
   "cell_type": "code",
   "execution_count": 34,
   "id": "a64e3ae1-419c-4e9a-a8ae-9b44f2893e4b",
   "metadata": {},
   "outputs": [
    {
     "name": "stdout",
     "output_type": "stream",
     "text": [
      "3\n",
      "4\n",
      "5\n"
     ]
    }
   ],
   "source": [
    "for zzz in range(3,6):\n",
    "    print(zzz)"
   ]
  },
  {
   "cell_type": "markdown",
   "id": "4b825ea6-f62e-445b-b8a5-1fbece6122f2",
   "metadata": {},
   "source": [
    "## Lists"
   ]
  },
  {
   "cell_type": "code",
   "execution_count": 36,
   "id": "27f5f048-f7c1-4ed0-9c6c-d3a14f5b5462",
   "metadata": {},
   "outputs": [
    {
     "data": {
      "text/plain": [
       "[1, 5, 7, 10]"
      ]
     },
     "execution_count": 36,
     "metadata": {},
     "output_type": "execute_result"
    }
   ],
   "source": [
    "l = [1,5,7,10]\n",
    "l"
   ]
  },
  {
   "cell_type": "code",
   "execution_count": 38,
   "id": "c60c0978-a2c3-4baf-9d87-8af08c6e2d6c",
   "metadata": {},
   "outputs": [
    {
     "data": {
      "text/plain": [
       "['dog', 'cat', 'fish']"
      ]
     },
     "execution_count": 38,
     "metadata": {},
     "output_type": "execute_result"
    }
   ],
   "source": [
    "l = ['dog','cat','fish']\n",
    "l"
   ]
  },
  {
   "cell_type": "code",
   "execution_count": 41,
   "id": "ee333465-b60e-466f-be8a-14ba286142a0",
   "metadata": {},
   "outputs": [],
   "source": [
    "l = [1,2,'dog',True]"
   ]
  },
  {
   "cell_type": "code",
   "execution_count": 42,
   "id": "b265df12-dfa5-4c96-9744-f20edb5775d0",
   "metadata": {},
   "outputs": [
    {
     "data": {
      "text/plain": [
       "[1, 2, 'dog', True]"
      ]
     },
     "execution_count": 42,
     "metadata": {},
     "output_type": "execute_result"
    }
   ],
   "source": [
    "l"
   ]
  },
  {
   "cell_type": "code",
   "execution_count": 43,
   "id": "601e6b5d-cd7d-49bb-9208-ca979b822927",
   "metadata": {},
   "outputs": [
    {
     "data": {
      "text/plain": [
       "[1, 4, 9, 16, 25]"
      ]
     },
     "execution_count": 43,
     "metadata": {},
     "output_type": "execute_result"
    }
   ],
   "source": [
    "squares = [1**2, 2**2, 3**2,4**2,5**2]\n",
    "squares"
   ]
  },
  {
   "cell_type": "code",
   "execution_count": 44,
   "id": "acccbca7-e424-4bef-b587-2556bcceab2c",
   "metadata": {},
   "outputs": [
    {
     "data": {
      "text/plain": [
       "1"
      ]
     },
     "execution_count": 44,
     "metadata": {},
     "output_type": "execute_result"
    }
   ],
   "source": [
    "squares[0]"
   ]
  },
  {
   "cell_type": "code",
   "execution_count": 45,
   "id": "d69cdd82-8f2d-431c-83a1-1cc9f4014757",
   "metadata": {},
   "outputs": [
    {
     "data": {
      "text/plain": [
       "9"
      ]
     },
     "execution_count": 45,
     "metadata": {},
     "output_type": "execute_result"
    }
   ],
   "source": [
    "squares[2]"
   ]
  },
  {
   "cell_type": "code",
   "execution_count": 46,
   "id": "280abe16-39dd-4e5b-990f-dfa0d17677f7",
   "metadata": {},
   "outputs": [
    {
     "ename": "IndexError",
     "evalue": "list index out of range",
     "output_type": "error",
     "traceback": [
      "\u001b[0;31m---------------------------------------------------------------------------\u001b[0m",
      "\u001b[0;31mIndexError\u001b[0m                                Traceback (most recent call last)",
      "Cell \u001b[0;32mIn[46], line 1\u001b[0m\n\u001b[0;32m----> 1\u001b[0m \u001b[43msquares\u001b[49m\u001b[43m[\u001b[49m\u001b[38;5;241;43m5\u001b[39;49m\u001b[43m]\u001b[49m\n",
      "\u001b[0;31mIndexError\u001b[0m: list index out of range"
     ]
    }
   ],
   "source": [
    "squares[5]"
   ]
  },
  {
   "cell_type": "code",
   "execution_count": 47,
   "id": "546a7b87-eaf2-46de-8b20-715125ee877f",
   "metadata": {},
   "outputs": [
    {
     "data": {
      "text/plain": [
       "[1, 4, 9, 16, 25]"
      ]
     },
     "execution_count": 47,
     "metadata": {},
     "output_type": "execute_result"
    }
   ],
   "source": [
    "squares[:]"
   ]
  },
  {
   "cell_type": "code",
   "execution_count": 51,
   "id": "d91eeea6-f29c-493b-bff5-2d1b4392706e",
   "metadata": {},
   "outputs": [
    {
     "data": {
      "text/plain": [
       "[4, 9]"
      ]
     },
     "execution_count": 51,
     "metadata": {},
     "output_type": "execute_result"
    }
   ],
   "source": [
    "squares[1:3]"
   ]
  },
  {
   "cell_type": "code",
   "execution_count": 52,
   "id": "c62c2075-3a2d-40e3-991a-44e8b35bc2e6",
   "metadata": {},
   "outputs": [
    {
     "data": {
      "text/plain": [
       "[4, 9, 16, 25]"
      ]
     },
     "execution_count": 52,
     "metadata": {},
     "output_type": "execute_result"
    }
   ],
   "source": [
    "squares[1:]"
   ]
  },
  {
   "cell_type": "code",
   "execution_count": 54,
   "id": "53f335ab-ffb2-403c-a9aa-9e5fdd859d7a",
   "metadata": {},
   "outputs": [
    {
     "data": {
      "text/plain": [
       "[1, 4]"
      ]
     },
     "execution_count": 54,
     "metadata": {},
     "output_type": "execute_result"
    }
   ],
   "source": [
    "squares[:2]"
   ]
  },
  {
   "cell_type": "code",
   "execution_count": 55,
   "id": "b3012244-20f4-4ff0-8126-1895438cf49a",
   "metadata": {},
   "outputs": [
    {
     "data": {
      "text/plain": [
       "16"
      ]
     },
     "execution_count": 55,
     "metadata": {},
     "output_type": "execute_result"
    }
   ],
   "source": [
    "squares[3]"
   ]
  },
  {
   "cell_type": "code",
   "execution_count": 57,
   "id": "ca96be58-4994-4832-9d83-80b51002ae08",
   "metadata": {},
   "outputs": [
    {
     "data": {
      "text/plain": [
       "16"
      ]
     },
     "execution_count": 57,
     "metadata": {},
     "output_type": "execute_result"
    }
   ],
   "source": [
    "squares[-2]"
   ]
  },
  {
   "cell_type": "code",
   "execution_count": 58,
   "id": "63bb2b76-8efb-4beb-91f7-10ed90e8745a",
   "metadata": {},
   "outputs": [],
   "source": [
    "l = ['cat','dog','fish']\n"
   ]
  },
  {
   "cell_type": "code",
   "execution_count": 59,
   "id": "7c47d9a3-a2f3-4094-b615-db62080a45dc",
   "metadata": {},
   "outputs": [
    {
     "data": {
      "text/plain": [
       "\u001b[0;31mSignature:\u001b[0m \u001b[0ml\u001b[0m\u001b[0;34m.\u001b[0m\u001b[0mappend\u001b[0m\u001b[0;34m(\u001b[0m\u001b[0mobject\u001b[0m\u001b[0;34m,\u001b[0m \u001b[0;34m/\u001b[0m\u001b[0;34m)\u001b[0m\u001b[0;34m\u001b[0m\u001b[0;34m\u001b[0m\u001b[0m\n",
       "\u001b[0;31mDocstring:\u001b[0m Append object to the end of the list.\n",
       "\u001b[0;31mType:\u001b[0m      builtin_function_or_method"
      ]
     },
     "metadata": {},
     "output_type": "display_data"
    }
   ],
   "source": [
    "l.append?"
   ]
  },
  {
   "cell_type": "code",
   "execution_count": 60,
   "id": "bec3184e-b15b-4419-805b-82a6243c02ae",
   "metadata": {},
   "outputs": [
    {
     "data": {
      "text/plain": [
       "['cat', 'dog', 'fish', 'snake']"
      ]
     },
     "execution_count": 60,
     "metadata": {},
     "output_type": "execute_result"
    }
   ],
   "source": [
    "l.append('snake')\n",
    "l"
   ]
  },
  {
   "cell_type": "code",
   "execution_count": 63,
   "id": "681a0630-dbe8-4e3e-9524-889ab94860bf",
   "metadata": {},
   "outputs": [],
   "source": [
    "l.append('5')"
   ]
  },
  {
   "cell_type": "code",
   "execution_count": 64,
   "id": "2f6c6da9-736a-4400-b87c-30e0a930255b",
   "metadata": {},
   "outputs": [
    {
     "data": {
      "text/plain": [
       "['cat', 'dog', 'fish', 'snake', 5, '5']"
      ]
     },
     "execution_count": 64,
     "metadata": {},
     "output_type": "execute_result"
    }
   ],
   "source": [
    "l"
   ]
  },
  {
   "cell_type": "code",
   "execution_count": 65,
   "id": "b3ba9422-553d-4457-bb3f-e3a3cadcf01c",
   "metadata": {},
   "outputs": [
    {
     "data": {
      "text/plain": [
       "'fish'"
      ]
     },
     "execution_count": 65,
     "metadata": {},
     "output_type": "execute_result"
    }
   ],
   "source": [
    "l[2]"
   ]
  },
  {
   "cell_type": "code",
   "execution_count": 66,
   "id": "481755e4-d420-4411-b39b-26547f61fd32",
   "metadata": {},
   "outputs": [
    {
     "ename": "TypeError",
     "evalue": "'list' object is not callable",
     "output_type": "error",
     "traceback": [
      "\u001b[0;31m---------------------------------------------------------------------------\u001b[0m",
      "\u001b[0;31mTypeError\u001b[0m                                 Traceback (most recent call last)",
      "Cell \u001b[0;32mIn[66], line 1\u001b[0m\n\u001b[0;32m----> 1\u001b[0m \u001b[43ml\u001b[49m\u001b[43m(\u001b[49m\u001b[38;5;241;43m2\u001b[39;49m\u001b[43m)\u001b[49m\n",
      "\u001b[0;31mTypeError\u001b[0m: 'list' object is not callable"
     ]
    }
   ],
   "source": [
    "l(2)"
   ]
  },
  {
   "cell_type": "markdown",
   "id": "0b94fc5d-ad15-4a37-b794-32e144d204f1",
   "metadata": {},
   "source": [
    "## Tuples"
   ]
  },
  {
   "cell_type": "code",
   "execution_count": 67,
   "id": "6956ae9b-5d3a-40fe-b9bb-4fd5fdc4da91",
   "metadata": {},
   "outputs": [],
   "source": [
    "a = ('Dan',100,True)"
   ]
  },
  {
   "cell_type": "code",
   "execution_count": 68,
   "id": "198327c7-f8ac-43f1-8cf5-d04a5cfe00c5",
   "metadata": {},
   "outputs": [
    {
     "name": "stdout",
     "output_type": "stream",
     "text": [
      "('Dan', 100, True)\n"
     ]
    }
   ],
   "source": [
    "print(a)"
   ]
  },
  {
   "cell_type": "code",
   "execution_count": 69,
   "id": "fbb3b49c-55cd-401b-9bcb-71648ae86d38",
   "metadata": {},
   "outputs": [
    {
     "data": {
      "text/plain": [
       "tuple"
      ]
     },
     "execution_count": 69,
     "metadata": {},
     "output_type": "execute_result"
    }
   ],
   "source": [
    "type(a)"
   ]
  },
  {
   "cell_type": "code",
   "execution_count": 70,
   "id": "bc0c190b-e2c6-420b-8630-a945e090218f",
   "metadata": {},
   "outputs": [
    {
     "data": {
      "text/plain": [
       "100"
      ]
     },
     "execution_count": 70,
     "metadata": {},
     "output_type": "execute_result"
    }
   ],
   "source": [
    "a[1]"
   ]
  },
  {
   "cell_type": "code",
   "execution_count": 71,
   "id": "3ddc0d05-db57-4350-9e9b-704ff2e542c1",
   "metadata": {},
   "outputs": [
    {
     "ename": "TypeError",
     "evalue": "'tuple' object does not support item assignment",
     "output_type": "error",
     "traceback": [
      "\u001b[0;31m---------------------------------------------------------------------------\u001b[0m",
      "\u001b[0;31mTypeError\u001b[0m                                 Traceback (most recent call last)",
      "Cell \u001b[0;32mIn[71], line 1\u001b[0m\n\u001b[0;32m----> 1\u001b[0m \u001b[43ma\u001b[49m\u001b[43m[\u001b[49m\u001b[38;5;241;43m3\u001b[39;49m\u001b[43m]\u001b[49m \u001b[38;5;241m=\u001b[39m \u001b[38;5;124m'\u001b[39m\u001b[38;5;124mTrevor\u001b[39m\u001b[38;5;124m'\u001b[39m\n",
      "\u001b[0;31mTypeError\u001b[0m: 'tuple' object does not support item assignment"
     ]
    }
   ],
   "source": [
    "a[3] = 'Trevor'"
   ]
  },
  {
   "cell_type": "code",
   "execution_count": 72,
   "id": "ef3c357d-5027-4705-903c-58a19d3a7254",
   "metadata": {},
   "outputs": [
    {
     "ename": "AttributeError",
     "evalue": "'tuple' object has no attribute 'append'",
     "output_type": "error",
     "traceback": [
      "\u001b[0;31m---------------------------------------------------------------------------\u001b[0m",
      "\u001b[0;31mAttributeError\u001b[0m                            Traceback (most recent call last)",
      "Cell \u001b[0;32mIn[72], line 1\u001b[0m\n\u001b[0;32m----> 1\u001b[0m \u001b[43ma\u001b[49m\u001b[38;5;241;43m.\u001b[39;49m\u001b[43mappend\u001b[49m(\u001b[38;5;124m'\u001b[39m\u001b[38;5;124mTrevor\u001b[39m\u001b[38;5;124m'\u001b[39m)\n",
      "\u001b[0;31mAttributeError\u001b[0m: 'tuple' object has no attribute 'append'"
     ]
    }
   ],
   "source": [
    "a.append('Trevor')"
   ]
  },
  {
   "cell_type": "code",
   "execution_count": 73,
   "id": "a6a41721-2117-45ec-9c64-c59e9b7dfebd",
   "metadata": {},
   "outputs": [
    {
     "data": {
      "text/plain": [
       "['cat', 'dog', 'fish', 'snake', 5, '5']"
      ]
     },
     "execution_count": 73,
     "metadata": {},
     "output_type": "execute_result"
    }
   ],
   "source": [
    "l"
   ]
  },
  {
   "cell_type": "code",
   "execution_count": 74,
   "id": "0d88d848-86e5-4a0e-9470-55388ecc31b2",
   "metadata": {},
   "outputs": [],
   "source": [
    "l[0] = 'lizard'"
   ]
  },
  {
   "cell_type": "code",
   "execution_count": 75,
   "id": "29b046a9-1d53-4d79-9963-df09be75998b",
   "metadata": {},
   "outputs": [
    {
     "data": {
      "text/plain": [
       "['lizard', 'dog', 'fish', 'snake', 5, '5']"
      ]
     },
     "execution_count": 75,
     "metadata": {},
     "output_type": "execute_result"
    }
   ],
   "source": [
    "l"
   ]
  },
  {
   "cell_type": "code",
   "execution_count": 76,
   "id": "378f3c94-4b52-4a7f-9ec5-71d5ac497168",
   "metadata": {},
   "outputs": [
    {
     "ename": "IndexError",
     "evalue": "list assignment index out of range",
     "output_type": "error",
     "traceback": [
      "\u001b[0;31m---------------------------------------------------------------------------\u001b[0m",
      "\u001b[0;31mIndexError\u001b[0m                                Traceback (most recent call last)",
      "Cell \u001b[0;32mIn[76], line 1\u001b[0m\n\u001b[0;32m----> 1\u001b[0m \u001b[43ml\u001b[49m\u001b[43m[\u001b[49m\u001b[38;5;241;43m6\u001b[39;49m\u001b[43m]\u001b[49m \u001b[38;5;241m=\u001b[39m \u001b[38;5;124m'\u001b[39m\u001b[38;5;124mdinosaur\u001b[39m\u001b[38;5;124m'\u001b[39m\n",
      "\u001b[0;31mIndexError\u001b[0m: list assignment index out of range"
     ]
    }
   ],
   "source": [
    "l[6] = 'dinosaur'"
   ]
  },
  {
   "cell_type": "code",
   "execution_count": 99,
   "id": "cf6e262d-3a53-4b2e-9c78-421558baa7a7",
   "metadata": {},
   "outputs": [
    {
     "name": "stdout",
     "output_type": "stream",
     "text": [
      "['dog', 'fish', 'lizard', 'snake']\n"
     ]
    }
   ],
   "source": [
    "l = ['lizard', 'dog', 'fish', 'snake']\n",
    "l.sort()\n",
    "print(l)"
   ]
  },
  {
   "cell_type": "code",
   "execution_count": 104,
   "id": "0bef2d7c-8c58-4cf0-8e07-7791b722c442",
   "metadata": {},
   "outputs": [
    {
     "data": {
      "text/plain": [
       "[13, 9, 7, 2, 1, 0]"
      ]
     },
     "execution_count": 104,
     "metadata": {},
     "output_type": "execute_result"
    }
   ],
   "source": [
    "l = [1,0,2,9,13,7]\n",
    "l.sort()\n",
    "l.sort(reverse=True)\n",
    "l"
   ]
  },
  {
   "cell_type": "code",
   "execution_count": 77,
   "id": "84f2b86f-3001-45e7-aa68-60cda9a7e8a5",
   "metadata": {},
   "outputs": [],
   "source": [
    "ll = ['','','','','','']"
   ]
  },
  {
   "cell_type": "code",
   "execution_count": 78,
   "id": "9e134c8d-8a86-46ae-8319-012d06e3485a",
   "metadata": {},
   "outputs": [
    {
     "data": {
      "text/plain": [
       "['', '', '', '', '', '']"
      ]
     },
     "execution_count": 78,
     "metadata": {},
     "output_type": "execute_result"
    }
   ],
   "source": [
    "ll = \n"
   ]
  },
  {
   "cell_type": "markdown",
   "id": "bf67a6b5-906a-495f-bad0-3b0c9408c7eb",
   "metadata": {},
   "source": [
    "## Dictionaries"
   ]
  },
  {
   "cell_type": "code",
   "execution_count": 79,
   "id": "bf8c60d8-ff4b-45ca-887c-6b7d2344d72c",
   "metadata": {},
   "outputs": [
    {
     "data": {
      "text/plain": [
       "{'name': 'Dan', 'age': 38}"
      ]
     },
     "execution_count": 79,
     "metadata": {},
     "output_type": "execute_result"
    }
   ],
   "source": [
    "f = {'name': 'Dan', 'age':38}\n",
    "f"
   ]
  },
  {
   "cell_type": "code",
   "execution_count": 80,
   "id": "b1848df2-9e47-4f5a-bd8c-02cb7f09b92e",
   "metadata": {},
   "outputs": [
    {
     "data": {
      "text/plain": [
       "{'name': 'Bob', 'age': 44}"
      ]
     },
     "execution_count": 80,
     "metadata": {},
     "output_type": "execute_result"
    }
   ],
   "source": [
    "e = dict(name='Bob', age=44)\n",
    "e"
   ]
  },
  {
   "cell_type": "code",
   "execution_count": 81,
   "id": "0c987730-cdff-4577-95f0-6ab0bd0ef7ac",
   "metadata": {},
   "outputs": [
    {
     "data": {
      "text/plain": [
       "'Bob'"
      ]
     },
     "execution_count": 81,
     "metadata": {},
     "output_type": "execute_result"
    }
   ],
   "source": [
    "e['name']"
   ]
  },
  {
   "cell_type": "code",
   "execution_count": 82,
   "id": "4466be0f-6162-4ba4-baed-6faf9a339d04",
   "metadata": {},
   "outputs": [],
   "source": [
    "e['height'] = (6,3)"
   ]
  },
  {
   "cell_type": "code",
   "execution_count": 83,
   "id": "ae57269c-7390-4440-9de7-ca22de2483a7",
   "metadata": {},
   "outputs": [
    {
     "data": {
      "text/plain": [
       "{'name': 'Bob', 'age': 44, 'height': (6, 3)}"
      ]
     },
     "execution_count": 83,
     "metadata": {},
     "output_type": "execute_result"
    }
   ],
   "source": [
    "e"
   ]
  },
  {
   "cell_type": "code",
   "execution_count": 84,
   "id": "e1516ac8-4af7-48e1-9458-6699de9c3b2e",
   "metadata": {},
   "outputs": [
    {
     "name": "stdout",
     "output_type": "stream",
     "text": [
      "name Bob\n",
      "age 44\n",
      "height (6, 3)\n"
     ]
    }
   ],
   "source": [
    "for i in e:\n",
    "    print(i, e[i])"
   ]
  },
  {
   "cell_type": "code",
   "execution_count": 86,
   "id": "6144a139-2b64-4361-b9c6-d7d10dd80755",
   "metadata": {},
   "outputs": [],
   "source": [
    "g = {'name': ('Bob','Dan'), 'age':(44,38), 'height':(72,73)}"
   ]
  },
  {
   "cell_type": "code",
   "execution_count": 87,
   "id": "4ba5218a-4e61-4275-b605-e8b761ce0a10",
   "metadata": {},
   "outputs": [
    {
     "data": {
      "text/plain": [
       "{'name': ('Bob', 'Dan'), 'age': (44, 38), 'height': (72, 73)}"
      ]
     },
     "execution_count": 87,
     "metadata": {},
     "output_type": "execute_result"
    }
   ],
   "source": [
    "g"
   ]
  },
  {
   "cell_type": "markdown",
   "id": "11aa1ae0-d889-446f-8ed2-16e4b1bd8f0f",
   "metadata": {},
   "source": [
    "## functions"
   ]
  },
  {
   "cell_type": "code",
   "execution_count": 88,
   "id": "d6364b27-aa35-4941-bc29-7689fc63d01e",
   "metadata": {},
   "outputs": [],
   "source": [
    "def say_hello(name):\n",
    "    \"\"\" return a greeting to a name \"\"\"\n",
    "    return 'Hello ' + str(name) + '!'"
   ]
  },
  {
   "cell_type": "code",
   "execution_count": 90,
   "id": "d0ae57fa-0962-4808-b826-7573ebfb6a68",
   "metadata": {},
   "outputs": [
    {
     "data": {
      "text/plain": [
       "'Hello Trevor!'"
      ]
     },
     "execution_count": 90,
     "metadata": {},
     "output_type": "execute_result"
    }
   ],
   "source": [
    "say_hello('Trevor')"
   ]
  },
  {
   "cell_type": "code",
   "execution_count": 93,
   "id": "0467e6a4-73b4-4d02-8efc-03481320b063",
   "metadata": {},
   "outputs": [],
   "source": [
    "def say_hello_or_bjr(name, french=False):\n",
    "    \"\"\" a function to say a greeting in english or french \"\"\"\n",
    "    if french:\n",
    "        greeting = 'Bonjour '\n",
    "    else:\n",
    "        greeting = 'Hello '\n",
    "    return greeting + name"
   ]
  },
  {
   "cell_type": "code",
   "execution_count": 94,
   "id": "e578a199-03b1-4fe5-b05a-e7b2d8949645",
   "metadata": {},
   "outputs": [
    {
     "data": {
      "text/plain": [
       "'Bonjour Pierre'"
      ]
     },
     "execution_count": 94,
     "metadata": {},
     "output_type": "execute_result"
    }
   ],
   "source": [
    "say_hello_or_bjr('Pierre',french=True)"
   ]
  },
  {
   "cell_type": "code",
   "execution_count": 95,
   "id": "eddce99e-5ce5-4516-b3d0-9b342db8a08a",
   "metadata": {},
   "outputs": [
    {
     "data": {
      "text/plain": [
       "'Hello Trevor'"
      ]
     },
     "execution_count": 95,
     "metadata": {},
     "output_type": "execute_result"
    }
   ],
   "source": [
    "say_hello_or_bjr('Trevor')"
   ]
  },
  {
   "cell_type": "code",
   "execution_count": 96,
   "id": "ed1825ca-982a-4a73-9e48-36b04f051a60",
   "metadata": {},
   "outputs": [
    {
     "data": {
      "text/plain": [
       "\u001b[0;31mSignature:\u001b[0m \u001b[0msay_hello_or_bjr\u001b[0m\u001b[0;34m(\u001b[0m\u001b[0mname\u001b[0m\u001b[0;34m,\u001b[0m \u001b[0mfrench\u001b[0m\u001b[0;34m=\u001b[0m\u001b[0;32mFalse\u001b[0m\u001b[0;34m)\u001b[0m\u001b[0;34m\u001b[0m\u001b[0;34m\u001b[0m\u001b[0m\n",
       "\u001b[0;31mDocstring:\u001b[0m a function to say a greeting in english or french \n",
       "\u001b[0;31mFile:\u001b[0m      /tmp/ipykernel_27709/3174451786.py\n",
       "\u001b[0;31mType:\u001b[0m      function"
      ]
     },
     "metadata": {},
     "output_type": "display_data"
    }
   ],
   "source": [
    "say_hello_or_bjr?"
   ]
  },
  {
   "cell_type": "code",
   "execution_count": 97,
   "id": "2d81c9f8-b872-4542-87df-1095866d3128",
   "metadata": {},
   "outputs": [
    {
     "data": {
      "text/plain": [
       "'Bonjour Pierre'"
      ]
     },
     "execution_count": 97,
     "metadata": {},
     "output_type": "execute_result"
    }
   ],
   "source": [
    "person = say_hello_or_bjr('Pierre',french=True)\n",
    "person"
   ]
  },
  {
   "cell_type": "code",
   "execution_count": 98,
   "id": "1436ef1d-b48e-4d25-b64d-b4accb37615b",
   "metadata": {},
   "outputs": [
    {
     "data": {
      "text/plain": [
       "'Bonjour Pierre'"
      ]
     },
     "execution_count": 98,
     "metadata": {},
     "output_type": "execute_result"
    }
   ],
   "source": [
    "person"
   ]
  },
  {
   "cell_type": "code",
   "execution_count": 105,
   "id": "3001c889-b9a8-45a5-a603-6ca4f56f9236",
   "metadata": {},
   "outputs": [],
   "source": [
    "def fib(n):\n",
    "    \"\"\" print a fibonacci series up to n \"\"\"\n",
    "    a,b = 0,1\n",
    "    while a < n:\n",
    "        print(a)\n",
    "        a,b = b,a+b"
   ]
  },
  {
   "cell_type": "code",
   "execution_count": 106,
   "id": "1c32ce4b-2997-436e-bd2d-d0a640f180dc",
   "metadata": {},
   "outputs": [
    {
     "name": "stdout",
     "output_type": "stream",
     "text": [
      "0\n",
      "1\n",
      "1\n",
      "2\n",
      "3\n",
      "5\n",
      "8\n",
      "13\n",
      "21\n",
      "34\n",
      "55\n",
      "89\n"
     ]
    }
   ],
   "source": [
    "fib(100)"
   ]
  },
  {
   "cell_type": "code",
   "execution_count": 107,
   "id": "83b72492-35f5-4da2-b551-2dee1bf22e4a",
   "metadata": {},
   "outputs": [],
   "source": [
    "def fib2(n):\n",
    "    \"\"\" print a fib series with n elements \"\"\"\n",
    "    l = [0,1]\n",
    "    for i in range(n-2):\n",
    "        l.append(l[-1]+l[-2])\n",
    "    return l\n",
    "        "
   ]
  },
  {
   "cell_type": "code",
   "execution_count": 108,
   "id": "5caa5f02-59ce-4d3c-b966-851ecc875147",
   "metadata": {},
   "outputs": [
    {
     "data": {
      "text/plain": [
       "[0,\n",
       " 1,\n",
       " 1,\n",
       " 2,\n",
       " 3,\n",
       " 5,\n",
       " 8,\n",
       " 13,\n",
       " 21,\n",
       " 34,\n",
       " 55,\n",
       " 89,\n",
       " 144,\n",
       " 233,\n",
       " 377,\n",
       " 610,\n",
       " 987,\n",
       " 1597,\n",
       " 2584,\n",
       " 4181,\n",
       " 6765,\n",
       " 10946,\n",
       " 17711,\n",
       " 28657,\n",
       " 46368,\n",
       " 75025,\n",
       " 121393,\n",
       " 196418,\n",
       " 317811,\n",
       " 514229,\n",
       " 832040,\n",
       " 1346269,\n",
       " 2178309,\n",
       " 3524578,\n",
       " 5702887,\n",
       " 9227465,\n",
       " 14930352,\n",
       " 24157817,\n",
       " 39088169,\n",
       " 63245986,\n",
       " 102334155,\n",
       " 165580141,\n",
       " 267914296,\n",
       " 433494437,\n",
       " 701408733,\n",
       " 1134903170,\n",
       " 1836311903,\n",
       " 2971215073,\n",
       " 4807526976,\n",
       " 7778742049,\n",
       " 12586269025,\n",
       " 20365011074,\n",
       " 32951280099,\n",
       " 53316291173,\n",
       " 86267571272,\n",
       " 139583862445,\n",
       " 225851433717,\n",
       " 365435296162,\n",
       " 591286729879,\n",
       " 956722026041,\n",
       " 1548008755920,\n",
       " 2504730781961,\n",
       " 4052739537881,\n",
       " 6557470319842,\n",
       " 10610209857723,\n",
       " 17167680177565,\n",
       " 27777890035288,\n",
       " 44945570212853,\n",
       " 72723460248141,\n",
       " 117669030460994,\n",
       " 190392490709135,\n",
       " 308061521170129,\n",
       " 498454011879264,\n",
       " 806515533049393,\n",
       " 1304969544928657,\n",
       " 2111485077978050,\n",
       " 3416454622906707,\n",
       " 5527939700884757,\n",
       " 8944394323791464,\n",
       " 14472334024676221,\n",
       " 23416728348467685,\n",
       " 37889062373143906,\n",
       " 61305790721611591,\n",
       " 99194853094755497,\n",
       " 160500643816367088,\n",
       " 259695496911122585,\n",
       " 420196140727489673,\n",
       " 679891637638612258,\n",
       " 1100087778366101931,\n",
       " 1779979416004714189,\n",
       " 2880067194370816120,\n",
       " 4660046610375530309,\n",
       " 7540113804746346429,\n",
       " 12200160415121876738,\n",
       " 19740274219868223167,\n",
       " 31940434634990099905,\n",
       " 51680708854858323072,\n",
       " 83621143489848422977,\n",
       " 135301852344706746049,\n",
       " 218922995834555169026]"
      ]
     },
     "execution_count": 108,
     "metadata": {},
     "output_type": "execute_result"
    }
   ],
   "source": [
    "fib2(100)"
   ]
  },
  {
   "cell_type": "code",
   "execution_count": null,
   "id": "7508dc8b-ec34-4268-941d-8ddbbb4c9c81",
   "metadata": {},
   "outputs": [],
   "source": []
  }
 ],
 "metadata": {
  "kernelspec": {
   "display_name": "pangeo23",
   "language": "python",
   "name": "pangeo23"
  },
  "language_info": {
   "codemirror_mode": {
    "name": "ipython",
    "version": 3
   },
   "file_extension": ".py",
   "mimetype": "text/x-python",
   "name": "python",
   "nbconvert_exporter": "python",
   "pygments_lexer": "ipython3",
   "version": "3.11.6"
  }
 },
 "nbformat": 4,
 "nbformat_minor": 5
}
