{
 "cells": [
  {
   "cell_type": "markdown",
   "id": "4e5b311e-7dbf-4641-b024-e0dd8e9d2464",
   "metadata": {},
   "source": [
    "# NumPy and Matplotlib\n",
    "##### and pandas briefly!"
   ]
  },
  {
   "cell_type": "code",
   "execution_count": 1,
   "id": "46562da7-62e5-4cd3-8284-e9c559bb116b",
   "metadata": {},
   "outputs": [],
   "source": [
    "import numpy as np"
   ]
  },
  {
   "cell_type": "code",
   "execution_count": 13,
   "id": "6b3b884f-9369-4f01-add0-4110309fddd1",
   "metadata": {},
   "outputs": [
    {
     "data": {
      "text/plain": [
       "array([1, 0, 0, 2, 5])"
      ]
     },
     "execution_count": 13,
     "metadata": {},
     "output_type": "execute_result"
    }
   ],
   "source": [
    "a = np.array([1,0,0,2,5])\n",
    "a"
   ]
  },
  {
   "cell_type": "code",
   "execution_count": 4,
   "id": "055360e0-b49e-4e8b-acda-98e0c488885b",
   "metadata": {},
   "outputs": [
    {
     "data": {
      "text/plain": [
       "numpy.ndarray"
      ]
     },
     "execution_count": 4,
     "metadata": {},
     "output_type": "execute_result"
    }
   ],
   "source": [
    "type(a)"
   ]
  },
  {
   "cell_type": "code",
   "execution_count": 12,
   "id": "7a657d27-8987-4da4-bf51-ecc153e4e9b4",
   "metadata": {},
   "outputs": [
    {
     "data": {
      "text/plain": [
       "(1, 5)"
      ]
     },
     "execution_count": 12,
     "metadata": {},
     "output_type": "execute_result"
    }
   ],
   "source": [
    "a.shape"
   ]
  },
  {
   "cell_type": "code",
   "execution_count": 15,
   "id": "03d0a6ae-ada3-4864-8be7-e78272827b08",
   "metadata": {},
   "outputs": [
    {
     "data": {
      "text/plain": [
       "array([[5, 3, 1, 9],\n",
       "       [9, 2, 3, 0]])"
      ]
     },
     "execution_count": 15,
     "metadata": {},
     "output_type": "execute_result"
    }
   ],
   "source": [
    "b = np.array([[5,3,1,9],[9,2,3,0,]])\n",
    "b"
   ]
  },
  {
   "cell_type": "code",
   "execution_count": 8,
   "id": "4a7af6d5-32a8-4cae-b0b7-30adc15a69af",
   "metadata": {},
   "outputs": [
    {
     "data": {
      "text/plain": [
       "(2, 4)"
      ]
     },
     "execution_count": 8,
     "metadata": {},
     "output_type": "execute_result"
    }
   ],
   "source": [
    "b.shape"
   ]
  },
  {
   "cell_type": "code",
   "execution_count": 10,
   "id": "dd8f343d-de95-464a-82a7-d0634f1e05d4",
   "metadata": {},
   "outputs": [
    {
     "data": {
      "text/plain": [
       "(5, 1)"
      ]
     },
     "execution_count": 10,
     "metadata": {},
     "output_type": "execute_result"
    }
   ],
   "source": [
    "aa = np.array([[1],[0],[0],[2],[5]])\n",
    "aa.shape"
   ]
  },
  {
   "cell_type": "code",
   "execution_count": 16,
   "id": "d31d2937-5594-49ab-a8a8-cab28f7e3ce5",
   "metadata": {},
   "outputs": [
    {
     "data": {
      "text/plain": [
       "array([[0., 0., 0., 0., 0., 0., 0., 0., 0.],\n",
       "       [0., 0., 0., 0., 0., 0., 0., 0., 0.],\n",
       "       [0., 0., 0., 0., 0., 0., 0., 0., 0.],\n",
       "       [0., 0., 0., 0., 0., 0., 0., 0., 0.],\n",
       "       [0., 0., 0., 0., 0., 0., 0., 0., 0.],\n",
       "       [0., 0., 0., 0., 0., 0., 0., 0., 0.],\n",
       "       [0., 0., 0., 0., 0., 0., 0., 0., 0.],\n",
       "       [0., 0., 0., 0., 0., 0., 0., 0., 0.],\n",
       "       [0., 0., 0., 0., 0., 0., 0., 0., 0.]])"
      ]
     },
     "execution_count": 16,
     "metadata": {},
     "output_type": "execute_result"
    }
   ],
   "source": [
    "c = np.zeros((9,9))\n",
    "c"
   ]
  },
  {
   "cell_type": "code",
   "execution_count": 18,
   "id": "0c2df82b-2556-4197-a60c-e8a99e64d6a0",
   "metadata": {},
   "outputs": [
    {
     "data": {
      "text/plain": [
       "array([[6.28318531, 6.28318531, 6.28318531],\n",
       "       [6.28318531, 6.28318531, 6.28318531],\n",
       "       [6.28318531, 6.28318531, 6.28318531]])"
      ]
     },
     "execution_count": 18,
     "metadata": {},
     "output_type": "execute_result"
    }
   ],
   "source": [
    "d = np.full((3,3), np.pi*2)\n",
    "d"
   ]
  },
  {
   "cell_type": "code",
   "execution_count": 19,
   "id": "a5e66f6a-44f0-4fcf-ba71-d106b07fa9ad",
   "metadata": {},
   "outputs": [
    {
     "data": {
      "text/plain": [
       "array([0, 1, 2, 3, 4, 5, 6, 7, 8, 9])"
      ]
     },
     "execution_count": 19,
     "metadata": {},
     "output_type": "execute_result"
    }
   ],
   "source": [
    "np.arange(10)"
   ]
  },
  {
   "cell_type": "code",
   "execution_count": 20,
   "id": "af7e4c06-1da1-4ebc-af82-e027fd5fee01",
   "metadata": {},
   "outputs": [
    {
     "data": {
      "text/plain": [
       "array([2.  , 2.25, 2.5 , 2.75, 3.  , 3.25, 3.5 , 3.75])"
      ]
     },
     "execution_count": 20,
     "metadata": {},
     "output_type": "execute_result"
    }
   ],
   "source": [
    "np.arange(2,4, 0.25)"
   ]
  },
  {
   "cell_type": "code",
   "execution_count": 22,
   "id": "4f78704b-e6c2-459f-bbe0-156b508c2215",
   "metadata": {},
   "outputs": [
    {
     "data": {
      "text/plain": [
       "array([2.        , 2.10526316, 2.21052632, 2.31578947, 2.42105263,\n",
       "       2.52631579, 2.63157895, 2.73684211, 2.84210526, 2.94736842,\n",
       "       3.05263158, 3.15789474, 3.26315789, 3.36842105, 3.47368421,\n",
       "       3.57894737, 3.68421053, 3.78947368, 3.89473684, 4.        ])"
      ]
     },
     "execution_count": 22,
     "metadata": {},
     "output_type": "execute_result"
    }
   ],
   "source": [
    "e = np.linspace(2,4,20)\n",
    "e"
   ]
  },
  {
   "cell_type": "code",
   "execution_count": 23,
   "id": "6f377f6f-9a50-4252-afcd-0df64902abc4",
   "metadata": {},
   "outputs": [
    {
     "data": {
      "text/plain": [
       "(20,)"
      ]
     },
     "execution_count": 23,
     "metadata": {},
     "output_type": "execute_result"
    }
   ],
   "source": [
    "e.shape"
   ]
  },
  {
   "cell_type": "code",
   "execution_count": 25,
   "id": "62aec039-e429-4f48-be18-572bcaf89387",
   "metadata": {},
   "outputs": [
    {
     "data": {
      "text/plain": [
       "(100,)"
      ]
     },
     "execution_count": 25,
     "metadata": {},
     "output_type": "execute_result"
    }
   ],
   "source": [
    "x = np.linspace(-2*np.pi,np.pi,100)\n",
    "y = np.linspace(-np.pi, 2*np.pi,50)\n",
    "x.shape"
   ]
  },
  {
   "cell_type": "code",
   "execution_count": 26,
   "id": "80ef284b-e353-4c16-9c6c-9c98dc57c069",
   "metadata": {},
   "outputs": [],
   "source": [
    "xx,yy = np.meshgrid(x,y)"
   ]
  },
  {
   "cell_type": "code",
   "execution_count": 27,
   "id": "a4ac3e72-4a11-47d1-b6b0-d2772a52c62d",
   "metadata": {},
   "outputs": [
    {
     "data": {
      "text/plain": [
       "(50, 100)"
      ]
     },
     "execution_count": 27,
     "metadata": {},
     "output_type": "execute_result"
    }
   ],
   "source": [
    "xx.shape"
   ]
  },
  {
   "cell_type": "code",
   "execution_count": 28,
   "id": "74e1666e-c1b6-4b7c-9614-8386ead934e0",
   "metadata": {},
   "outputs": [
    {
     "data": {
      "text/plain": [
       "array([[-6.28318531, -6.18798553, -6.09278575, ...,  2.9511931 ,\n",
       "         3.04639288,  3.14159265],\n",
       "       [-6.28318531, -6.18798553, -6.09278575, ...,  2.9511931 ,\n",
       "         3.04639288,  3.14159265],\n",
       "       [-6.28318531, -6.18798553, -6.09278575, ...,  2.9511931 ,\n",
       "         3.04639288,  3.14159265],\n",
       "       ...,\n",
       "       [-6.28318531, -6.18798553, -6.09278575, ...,  2.9511931 ,\n",
       "         3.04639288,  3.14159265],\n",
       "       [-6.28318531, -6.18798553, -6.09278575, ...,  2.9511931 ,\n",
       "         3.04639288,  3.14159265],\n",
       "       [-6.28318531, -6.18798553, -6.09278575, ...,  2.9511931 ,\n",
       "         3.04639288,  3.14159265]])"
      ]
     },
     "execution_count": 28,
     "metadata": {},
     "output_type": "execute_result"
    }
   ],
   "source": [
    "xx"
   ]
  },
  {
   "cell_type": "code",
   "execution_count": 29,
   "id": "671c3a42-2654-464a-b06d-de863204a333",
   "metadata": {},
   "outputs": [
    {
     "data": {
      "text/plain": [
       "-5.426387310746007"
      ]
     },
     "execution_count": 29,
     "metadata": {},
     "output_type": "execute_result"
    }
   ],
   "source": [
    "xx[5,9]"
   ]
  },
  {
   "cell_type": "code",
   "execution_count": 31,
   "id": "1e09af17-7648-4023-98fb-5cd1034e258d",
   "metadata": {},
   "outputs": [
    {
     "data": {
      "text/plain": [
       "array([-6.28318531, -6.18798553, -6.09278575, -5.99758598, -5.9023862 ,\n",
       "       -5.80718642, -5.71198664, -5.61678687, -5.52158709, -5.42638731,\n",
       "       -5.33118753, -5.23598776, -5.14078798, -5.0455882 , -4.95038842,\n",
       "       -4.85518865, -4.75998887, -4.66478909, -4.56958931, -4.47438954,\n",
       "       -4.37918976, -4.28398998, -4.1887902 , -4.09359043, -3.99839065,\n",
       "       -3.90319087, -3.8079911 , -3.71279132, -3.61759154, -3.52239176,\n",
       "       -3.42719199, -3.33199221, -3.23679243, -3.14159265, -3.04639288,\n",
       "       -2.9511931 , -2.85599332, -2.76079354, -2.66559377, -2.57039399,\n",
       "       -2.47519421, -2.37999443, -2.28479466, -2.18959488, -2.0943951 ,\n",
       "       -1.99919533, -1.90399555, -1.80879577, -1.71359599, -1.61839622,\n",
       "       -1.52319644, -1.42799666, -1.33279688, -1.23759711, -1.14239733,\n",
       "       -1.04719755, -0.95199777, -0.856798  , -0.76159822, -0.66639844,\n",
       "       -0.57119866, -0.47599889, -0.38079911, -0.28559933, -0.19039955,\n",
       "       -0.09519978,  0.        ,  0.09519978,  0.19039955,  0.28559933,\n",
       "        0.38079911,  0.47599889,  0.57119866,  0.66639844,  0.76159822,\n",
       "        0.856798  ,  0.95199777,  1.04719755,  1.14239733,  1.23759711,\n",
       "        1.33279688,  1.42799666,  1.52319644,  1.61839622,  1.71359599,\n",
       "        1.80879577,  1.90399555,  1.99919533,  2.0943951 ,  2.18959488,\n",
       "        2.28479466,  2.37999443,  2.47519421,  2.57039399,  2.66559377,\n",
       "        2.76079354,  2.85599332,  2.9511931 ,  3.04639288,  3.14159265])"
      ]
     },
     "execution_count": 31,
     "metadata": {},
     "output_type": "execute_result"
    }
   ],
   "source": [
    "xx[5,:]"
   ]
  },
  {
   "cell_type": "code",
   "execution_count": 32,
   "id": "5fd60480-32de-4436-a8e0-668cdf02dd65",
   "metadata": {},
   "outputs": [
    {
     "data": {
      "text/plain": [
       "array([-5.80718642, -5.80718642, -5.80718642, -5.80718642, -5.80718642,\n",
       "       -5.80718642, -5.80718642, -5.80718642, -5.80718642, -5.80718642,\n",
       "       -5.80718642, -5.80718642, -5.80718642, -5.80718642, -5.80718642,\n",
       "       -5.80718642, -5.80718642, -5.80718642, -5.80718642, -5.80718642,\n",
       "       -5.80718642, -5.80718642, -5.80718642, -5.80718642, -5.80718642,\n",
       "       -5.80718642, -5.80718642, -5.80718642, -5.80718642, -5.80718642,\n",
       "       -5.80718642, -5.80718642, -5.80718642, -5.80718642, -5.80718642,\n",
       "       -5.80718642, -5.80718642, -5.80718642, -5.80718642, -5.80718642,\n",
       "       -5.80718642, -5.80718642, -5.80718642, -5.80718642, -5.80718642,\n",
       "       -5.80718642, -5.80718642, -5.80718642, -5.80718642, -5.80718642])"
      ]
     },
     "execution_count": 32,
     "metadata": {},
     "output_type": "execute_result"
    }
   ],
   "source": [
    "xx[:,5]"
   ]
  },
  {
   "cell_type": "code",
   "execution_count": 33,
   "id": "20f08838-5a72-4ed5-955d-2cc2cae61bc2",
   "metadata": {},
   "outputs": [
    {
     "data": {
      "text/plain": [
       "(100,)"
      ]
     },
     "execution_count": 33,
     "metadata": {},
     "output_type": "execute_result"
    }
   ],
   "source": [
    "xx[0,:].shape"
   ]
  },
  {
   "cell_type": "code",
   "execution_count": 34,
   "id": "635d3cef-f7a3-4e1b-96c2-7444ed35c708",
   "metadata": {},
   "outputs": [
    {
     "data": {
      "text/plain": [
       "array([-6.28318531, -6.18798553, -6.09278575, -5.99758598, -5.9023862 ,\n",
       "       -5.80718642, -5.71198664, -5.61678687, -5.52158709, -5.42638731,\n",
       "       -5.33118753, -5.23598776, -5.14078798, -5.0455882 , -4.95038842,\n",
       "       -4.85518865, -4.75998887, -4.66478909, -4.56958931, -4.47438954,\n",
       "       -4.37918976, -4.28398998, -4.1887902 , -4.09359043, -3.99839065,\n",
       "       -3.90319087, -3.8079911 , -3.71279132, -3.61759154, -3.52239176,\n",
       "       -3.42719199, -3.33199221, -3.23679243, -3.14159265, -3.04639288,\n",
       "       -2.9511931 , -2.85599332, -2.76079354, -2.66559377, -2.57039399,\n",
       "       -2.47519421, -2.37999443, -2.28479466, -2.18959488, -2.0943951 ,\n",
       "       -1.99919533, -1.90399555, -1.80879577, -1.71359599, -1.61839622,\n",
       "       -1.52319644, -1.42799666, -1.33279688, -1.23759711, -1.14239733,\n",
       "       -1.04719755, -0.95199777, -0.856798  , -0.76159822, -0.66639844,\n",
       "       -0.57119866, -0.47599889, -0.38079911, -0.28559933, -0.19039955,\n",
       "       -0.09519978,  0.        ,  0.09519978,  0.19039955,  0.28559933,\n",
       "        0.38079911,  0.47599889,  0.57119866,  0.66639844,  0.76159822,\n",
       "        0.856798  ,  0.95199777,  1.04719755,  1.14239733,  1.23759711,\n",
       "        1.33279688,  1.42799666,  1.52319644,  1.61839622,  1.71359599,\n",
       "        1.80879577,  1.90399555,  1.99919533,  2.0943951 ,  2.18959488,\n",
       "        2.28479466,  2.37999443,  2.47519421,  2.57039399,  2.66559377,\n",
       "        2.76079354,  2.85599332,  2.9511931 ,  3.04639288,  3.14159265])"
      ]
     },
     "execution_count": 34,
     "metadata": {},
     "output_type": "execute_result"
    }
   ],
   "source": [
    "x"
   ]
  },
  {
   "cell_type": "code",
   "execution_count": 35,
   "id": "1813f573-8cfc-46fe-a983-c3f77a5036c1",
   "metadata": {},
   "outputs": [
    {
     "data": {
      "text/plain": [
       "array([-3.14159265, -2.94925025, -2.75690784, -2.56456543, -2.37222302,\n",
       "       -2.17988062, -1.98753821, -1.7951958 , -1.60285339, -1.41051099,\n",
       "       -1.21816858, -1.02582617, -0.83348377, -0.64114136, -0.44879895,\n",
       "       -0.25645654, -0.06411414,  0.12822827,  0.32057068,  0.51291309,\n",
       "        0.70525549,  0.8975979 ,  1.08994031,  1.28228272,  1.47462512,\n",
       "        1.66696753,  1.85930994,  2.05165235,  2.24399475,  2.43633716,\n",
       "        2.62867957,  2.82102197,  3.01336438,  3.20570679,  3.3980492 ,\n",
       "        3.5903916 ,  3.78273401,  3.97507642,  4.16741883,  4.35976123,\n",
       "        4.55210364,  4.74444605,  4.93678846,  5.12913086,  5.32147327,\n",
       "        5.51381568,  5.70615809,  5.89850049,  6.0908429 ,  6.28318531])"
      ]
     },
     "execution_count": 35,
     "metadata": {},
     "output_type": "execute_result"
    }
   ],
   "source": [
    "y"
   ]
  },
  {
   "cell_type": "code",
   "execution_count": 40,
   "id": "490cbf42-2ae4-4219-9bf6-b1a741982166",
   "metadata": {},
   "outputs": [
    {
     "data": {
      "text/plain": [
       "array([[-3.42719199, -3.33199221, -3.23679243, -3.14159265, -3.04639288,\n",
       "        -2.9511931 , -2.85599332, -2.76079354, -2.66559377, -2.57039399],\n",
       "       [-3.42719199, -3.33199221, -3.23679243, -3.14159265, -3.04639288,\n",
       "        -2.9511931 , -2.85599332, -2.76079354, -2.66559377, -2.57039399],\n",
       "       [-3.42719199, -3.33199221, -3.23679243, -3.14159265, -3.04639288,\n",
       "        -2.9511931 , -2.85599332, -2.76079354, -2.66559377, -2.57039399],\n",
       "       [-3.42719199, -3.33199221, -3.23679243, -3.14159265, -3.04639288,\n",
       "        -2.9511931 , -2.85599332, -2.76079354, -2.66559377, -2.57039399],\n",
       "       [-3.42719199, -3.33199221, -3.23679243, -3.14159265, -3.04639288,\n",
       "        -2.9511931 , -2.85599332, -2.76079354, -2.66559377, -2.57039399],\n",
       "       [-3.42719199, -3.33199221, -3.23679243, -3.14159265, -3.04639288,\n",
       "        -2.9511931 , -2.85599332, -2.76079354, -2.66559377, -2.57039399],\n",
       "       [-3.42719199, -3.33199221, -3.23679243, -3.14159265, -3.04639288,\n",
       "        -2.9511931 , -2.85599332, -2.76079354, -2.66559377, -2.57039399]])"
      ]
     },
     "execution_count": 40,
     "metadata": {},
     "output_type": "execute_result"
    }
   ],
   "source": [
    "xx_small=xx[3:10,30:40]\n",
    "xx_small"
   ]
  },
  {
   "cell_type": "code",
   "execution_count": 41,
   "id": "b694d0d5-4e0d-48c6-8823-fe44bd3ff94d",
   "metadata": {},
   "outputs": [
    {
     "data": {
      "text/plain": [
       "array([[ True,  True,  True, ..., False, False, False],\n",
       "       [ True,  True,  True, ..., False, False, False],\n",
       "       [ True,  True,  True, ..., False, False, False],\n",
       "       ...,\n",
       "       [ True,  True,  True, ..., False, False, False],\n",
       "       [ True,  True,  True, ..., False, False, False],\n",
       "       [ True,  True,  True, ..., False, False, False]])"
      ]
     },
     "execution_count": 41,
     "metadata": {},
     "output_type": "execute_result"
    }
   ],
   "source": [
    "idx = xx < 0\n",
    "idx"
   ]
  },
  {
   "cell_type": "code",
   "execution_count": 42,
   "id": "a33ddb66-30d9-4bb2-8922-b07414c7e3b9",
   "metadata": {},
   "outputs": [
    {
     "data": {
      "text/plain": [
       "array([-3.14159265, -3.14159265, -3.14159265, ...,  6.28318531,\n",
       "        6.28318531,  6.28318531])"
      ]
     },
     "execution_count": 42,
     "metadata": {},
     "output_type": "execute_result"
    }
   ],
   "source": [
    "yy[xx<0]"
   ]
  },
  {
   "cell_type": "code",
   "execution_count": 51,
   "id": "fea50c47-10d6-4a5e-9dfd-66f2a3689027",
   "metadata": {},
   "outputs": [
    {
     "data": {
      "text/plain": [
       "array([-3.14159265, -3.14159265, -3.14159265, ...,  6.28318531,\n",
       "        6.28318531,  6.28318531])"
      ]
     },
     "execution_count": 51,
     "metadata": {},
     "output_type": "execute_result"
    }
   ],
   "source": [
    "aa = yy[xx<4].reshape(50,100)\n",
    "bb = aa[xx>0]\n",
    "bb"
   ]
  },
  {
   "cell_type": "code",
   "execution_count": 45,
   "id": "ccd709e1-1242-4077-b4ed-e667bac437e9",
   "metadata": {},
   "outputs": [
    {
     "data": {
      "text/plain": [
       "5000"
      ]
     },
     "execution_count": 45,
     "metadata": {},
     "output_type": "execute_result"
    }
   ],
   "source": [
    "yy.size"
   ]
  },
  {
   "cell_type": "code",
   "execution_count": 53,
   "id": "cf87dd15-aef7-4efd-bcf2-2c68e8507a8b",
   "metadata": {},
   "outputs": [
    {
     "data": {
      "text/plain": [
       "(3300,)"
      ]
     },
     "execution_count": 53,
     "metadata": {},
     "output_type": "execute_result"
    }
   ],
   "source": [
    "cc = yy[xx<0]\n",
    "cc.shape"
   ]
  },
  {
   "cell_type": "code",
   "execution_count": 55,
   "id": "944cb608-0260-4bfa-935c-075c8bed103a",
   "metadata": {},
   "outputs": [
    {
     "data": {
      "text/plain": [
       "array([[-3.14159265, -3.14159265, -3.14159265, ..., -2.94925025,\n",
       "        -2.94925025, -2.94925025],\n",
       "       [-2.94925025, -2.94925025, -2.94925025, ..., -2.75690784,\n",
       "        -2.56456543, -2.56456543],\n",
       "       [-2.56456543, -2.56456543, -2.56456543, ..., -2.37222302,\n",
       "        -2.37222302, -2.37222302],\n",
       "       ...,\n",
       "       [ 5.51381568,  5.51381568,  5.51381568, ...,  5.70615809,\n",
       "         5.70615809,  5.70615809],\n",
       "       [ 5.70615809,  5.70615809,  5.89850049, ...,  6.0908429 ,\n",
       "         6.0908429 ,  6.0908429 ],\n",
       "       [ 6.0908429 ,  6.0908429 ,  6.0908429 , ...,  6.28318531,\n",
       "         6.28318531,  6.28318531]])"
      ]
     },
     "execution_count": 55,
     "metadata": {},
     "output_type": "execute_result"
    }
   ],
   "source": [
    "cc.reshape(33,100)"
   ]
  },
  {
   "cell_type": "markdown",
   "id": "8abf378f-f7f9-41c9-a3e4-5684a81ccb95",
   "metadata": {},
   "source": [
    "# Matplotlib"
   ]
  },
  {
   "cell_type": "code",
   "execution_count": 56,
   "id": "849e6ec8-c919-4f35-bf2d-811e42e9db4c",
   "metadata": {},
   "outputs": [],
   "source": [
    "from matplotlib import pyplot as plt"
   ]
  },
  {
   "cell_type": "code",
   "execution_count": 57,
   "id": "04f6e90d-dea4-4c5b-9b48-06c904ec7baf",
   "metadata": {},
   "outputs": [
    {
     "data": {
      "text/plain": [
       "array([-6.28318531, -6.18798553, -6.09278575, -5.99758598, -5.9023862 ,\n",
       "       -5.80718642, -5.71198664, -5.61678687, -5.52158709, -5.42638731,\n",
       "       -5.33118753, -5.23598776, -5.14078798, -5.0455882 , -4.95038842,\n",
       "       -4.85518865, -4.75998887, -4.66478909, -4.56958931, -4.47438954,\n",
       "       -4.37918976, -4.28398998, -4.1887902 , -4.09359043, -3.99839065,\n",
       "       -3.90319087, -3.8079911 , -3.71279132, -3.61759154, -3.52239176,\n",
       "       -3.42719199, -3.33199221, -3.23679243, -3.14159265, -3.04639288,\n",
       "       -2.9511931 , -2.85599332, -2.76079354, -2.66559377, -2.57039399,\n",
       "       -2.47519421, -2.37999443, -2.28479466, -2.18959488, -2.0943951 ,\n",
       "       -1.99919533, -1.90399555, -1.80879577, -1.71359599, -1.61839622,\n",
       "       -1.52319644, -1.42799666, -1.33279688, -1.23759711, -1.14239733,\n",
       "       -1.04719755, -0.95199777, -0.856798  , -0.76159822, -0.66639844,\n",
       "       -0.57119866, -0.47599889, -0.38079911, -0.28559933, -0.19039955,\n",
       "       -0.09519978,  0.        ,  0.09519978,  0.19039955,  0.28559933,\n",
       "        0.38079911,  0.47599889,  0.57119866,  0.66639844,  0.76159822,\n",
       "        0.856798  ,  0.95199777,  1.04719755,  1.14239733,  1.23759711,\n",
       "        1.33279688,  1.42799666,  1.52319644,  1.61839622,  1.71359599,\n",
       "        1.80879577,  1.90399555,  1.99919533,  2.0943951 ,  2.18959488,\n",
       "        2.28479466,  2.37999443,  2.47519421,  2.57039399,  2.66559377,\n",
       "        2.76079354,  2.85599332,  2.9511931 ,  3.04639288,  3.14159265])"
      ]
     },
     "execution_count": 57,
     "metadata": {},
     "output_type": "execute_result"
    }
   ],
   "source": [
    "x"
   ]
  },
  {
   "cell_type": "code",
   "execution_count": 58,
   "id": "f4fb53bd-63f9-491d-83b5-b26e6b41f0d1",
   "metadata": {},
   "outputs": [
    {
     "data": {
      "text/plain": [
       "[<matplotlib.lines.Line2D at 0x7de0f6bf8a50>]"
      ]
     },
     "execution_count": 58,
     "metadata": {},
     "output_type": "execute_result"
    },
    {
     "data": {
      "image/png": "[encoded data removed]",
      "text/plain": [
       "<Figure size 640x480 with 1 Axes>"
      ]
     },
     "metadata": {},
     "output_type": "display_data"
    }
   ],
   "source": [
    "plt.plot(x)"
   ]
  },
  {
   "cell_type": "code",
   "execution_count": 59,
   "id": "bcd34c06-66a9-4805-b673-57ea807bce26",
   "metadata": {},
   "outputs": [],
   "source": [
    "f = np.sin(xx)*np.cos(yy)"
   ]
  },
  {
   "cell_type": "code",
   "execution_count": 60,
   "id": "b2ac8831-b8d1-44eb-a071-1e34d363b600",
   "metadata": {},
   "outputs": [
    {
     "data": {
      "text/plain": [
       "(50, 100)"
      ]
     },
     "execution_count": 60,
     "metadata": {},
     "output_type": "execute_result"
    }
   ],
   "source": [
    "f.shape"
   ]
  },
  {
   "cell_type": "code",
   "execution_count": 61,
   "id": "6682d06d-e8f5-4a68-8014-32ebb4644f4d",
   "metadata": {},
   "outputs": [
    {
     "data": {
      "text/plain": [
       "<matplotlib.collections.QuadMesh at 0x7de0f61ea410>"
      ]
     },
     "execution_count": 61,
     "metadata": {},
     "output_type": "execute_result"
    },
    {
     "data": {
      "image/png": "[encoded data removed]",
      "text/plain": [
       "<Figure size 640x480 with 1 Axes>"
      ]
     },
     "metadata": {},
     "output_type": "display_data"
    }
   ],
   "source": [
    "plt.pcolormesh(f)"
   ]
  },
  {
   "cell_type": "code",
   "execution_count": 64,
   "id": "7797bb33-3d02-4d06-8a41-4d1d06732aef",
   "metadata": {},
   "outputs": [
    {
     "data": {
      "text/plain": [
       "<matplotlib.colorbar.Colorbar at 0x7de0f43f0e50>"
      ]
     },
     "execution_count": 64,
     "metadata": {},
     "output_type": "execute_result"
    },
    {
     "data": {
      "image/png": "[encoded data removed]",
      "text/plain": [
       "<Figure size 640x480 with 2 Axes>"
      ]
     },
     "metadata": {},
     "output_type": "display_data"
    }
   ],
   "source": [
    "plt.pcolormesh(f,cmap='BrBG',vmin=-1,vmax=1)\n",
    "plt.colorbar()"
   ]
  },
  {
   "cell_type": "code",
   "execution_count": 68,
   "id": "41df7beb-c90c-49fd-9aa8-aeb3a111eef5",
   "metadata": {},
   "outputs": [
    {
     "data": {
      "text/plain": [
       "<matplotlib.colorbar.Colorbar at 0x7de0f40e1d10>"
      ]
     },
     "execution_count": 68,
     "metadata": {},
     "output_type": "execute_result"
    },
    {
     "data": {
      "image/png": "[encoded data removed]",
      "text/plain": [
       "<Figure size 640x480 with 2 Axes>"
      ]
     },
     "metadata": {},
     "output_type": "display_data"
    }
   ],
   "source": [
    "plt.contourf(xx,yy,f,cmap='jet',vmin=-2,vmax=2,levels=np.linspace(-2,2,20))\n",
    "plt.colorbar()"
   ]
  },
  {
   "cell_type": "code",
   "execution_count": 69,
   "id": "7b0d7150-282b-44b6-b070-1dd5953be44c",
   "metadata": {},
   "outputs": [
    {
     "data": {
      "text/plain": [
       "array([[-2.44929360e-16, -9.50560433e-02, -1.89251244e-01, ...,\n",
       "        -1.89251244e-01, -9.50560433e-02, -1.22464680e-16],\n",
       "       [-2.40412656e-16, -9.33031297e-02, -1.85761292e-01, ...,\n",
       "        -1.85761292e-01, -9.33031297e-02, -1.20206328e-16],\n",
       "       [-2.27029128e-16, -8.81090394e-02, -1.75420150e-01, ...,\n",
       "        -1.75420150e-01, -8.81090394e-02, -1.13514564e-16],\n",
       "       ...,\n",
       "       [ 2.27029128e-16,  8.81090394e-02,  1.75420150e-01, ...,\n",
       "         1.75420150e-01,  8.81090394e-02,  1.13514564e-16],\n",
       "       [ 2.40412656e-16,  9.33031297e-02,  1.85761292e-01, ...,\n",
       "         1.85761292e-01,  9.33031297e-02,  1.20206328e-16],\n",
       "       [ 2.44929360e-16,  9.50560433e-02,  1.89251244e-01, ...,\n",
       "         1.89251244e-01,  9.50560433e-02,  1.22464680e-16]])"
      ]
     },
     "execution_count": 69,
     "metadata": {},
     "output_type": "execute_result"
    }
   ],
   "source": [
    "f"
   ]
  },
  {
   "cell_type": "code",
   "execution_count": 70,
   "id": "6b94fd43-d136-44a4-b79f-865691c3b2ff",
   "metadata": {},
   "outputs": [
    {
     "data": {
      "text/plain": [
       "-5.684341886080802e-18"
      ]
     },
     "execution_count": 70,
     "metadata": {},
     "output_type": "execute_result"
    }
   ],
   "source": [
    "f.mean()"
   ]
  },
  {
   "cell_type": "code",
   "execution_count": 71,
   "id": "b9f45623-f623-4ec3-a4bc-46617fde05b3",
   "metadata": {},
   "outputs": [],
   "source": [
    "g = np.linspace(2,4,20)"
   ]
  },
  {
   "cell_type": "code",
   "execution_count": 72,
   "id": "1e93d196-54dd-4db2-b28e-ecac711eb27f",
   "metadata": {},
   "outputs": [
    {
     "data": {
      "text/plain": [
       "3.0"
      ]
     },
     "execution_count": 72,
     "metadata": {},
     "output_type": "execute_result"
    }
   ],
   "source": [
    "g.mean()"
   ]
  },
  {
   "cell_type": "code",
   "execution_count": 73,
   "id": "66436f90-617c-4f6e-8d8a-1767dfaabf9f",
   "metadata": {},
   "outputs": [
    {
     "data": {
      "text/plain": [
       "60.0"
      ]
     },
     "execution_count": 73,
     "metadata": {},
     "output_type": "execute_result"
    }
   ],
   "source": [
    "g.sum()"
   ]
  },
  {
   "cell_type": "code",
   "execution_count": 74,
   "id": "5a518c0c-9828-4fd2-829d-dace187281a6",
   "metadata": {},
   "outputs": [
    {
     "data": {
      "text/plain": [
       "0.6069769786668839"
      ]
     },
     "execution_count": 74,
     "metadata": {},
     "output_type": "execute_result"
    }
   ],
   "source": [
    "g.std()"
   ]
  },
  {
   "cell_type": "code",
   "execution_count": 75,
   "id": "d7143060-890a-4cb7-88fa-7361efbffdd2",
   "metadata": {},
   "outputs": [
    {
     "data": {
      "text/plain": [
       "-5.684341886080802e-18"
      ]
     },
     "execution_count": 75,
     "metadata": {},
     "output_type": "execute_result"
    }
   ],
   "source": [
    "f.mean()"
   ]
  },
  {
   "cell_type": "code",
   "execution_count": 77,
   "id": "6e95689f-408d-4275-b421-0174b15d3db8",
   "metadata": {},
   "outputs": [
    {
     "data": {
      "text/plain": [
       "array([-1.38050658e-32, -7.49400542e-18, -7.77156117e-18, -2.10942375e-17,\n",
       "        3.33066907e-18, -1.44328993e-17, -1.55431223e-17, -1.33226763e-17,\n",
       "       -2.44249065e-17, -1.99840144e-17, -1.77635684e-17, -3.55271368e-17,\n",
       "       -5.32907052e-17, -3.33066907e-17, -1.55431223e-17, -3.99680289e-17,\n",
       "       -8.65973959e-17, -8.65973959e-17, -3.99680289e-17, -3.33066907e-17,\n",
       "       -7.77156117e-17, -3.55271368e-17, -3.10862447e-17,  1.77635684e-17,\n",
       "       -1.99840144e-17, -2.88657986e-17, -5.32907052e-17, -1.11022302e-17,\n",
       "       -1.88737914e-17, -2.99760217e-17, -9.99200722e-18,  4.99600361e-18,\n",
       "       -3.60822483e-18,  6.90253292e-33,  8.32667268e-19,  2.77555756e-18,\n",
       "        1.22124533e-17,  1.66533454e-17,  7.77156117e-18,  1.55431223e-17,\n",
       "        3.10862447e-17,  2.88657986e-17,  6.43929354e-17,  1.77635684e-17,\n",
       "        4.44089210e-17,  5.32907052e-17,  3.77475828e-17,  4.21884749e-17,\n",
       "        3.99680289e-17,  8.65973959e-17,  8.65973959e-17,  3.99680289e-17,\n",
       "        3.33066907e-17,  3.77475828e-17,  3.55271368e-17,  8.88178420e-18,\n",
       "        4.44089210e-18,  5.55111512e-17,  2.88657986e-17,  2.66453526e-17,\n",
       "        2.22044605e-18,  9.99200722e-18,  2.33146835e-17,  2.10942375e-17,\n",
       "        2.77555756e-18,  6.66133815e-18,  0.00000000e+00, -6.10622664e-18,\n",
       "       -2.77555756e-18, -2.10942375e-17, -2.88657986e-17, -9.99200722e-18,\n",
       "       -1.11022302e-17, -2.66453526e-17, -2.88657986e-17, -5.10702591e-17,\n",
       "       -4.44089210e-18, -4.44089210e-17, -4.21884749e-17, -3.77475828e-17,\n",
       "       -4.21884749e-17, -3.99680289e-17, -8.65973959e-17, -8.65973959e-17,\n",
       "       -3.99680289e-17, -3.33066907e-17, -3.77475828e-17, -7.10542736e-17,\n",
       "       -8.88178420e-18, -1.77635684e-17, -4.66293670e-17, -1.99840144e-17,\n",
       "       -1.33226763e-17, -1.55431223e-17, -3.66373598e-17, -2.33146835e-17,\n",
       "       -1.22124533e-17,  2.22044605e-18, -3.88578059e-18, -6.90253292e-33])"
      ]
     },
     "execution_count": 77,
     "metadata": {},
     "output_type": "execute_result"
    }
   ],
   "source": [
    "f_ymean = f.mean(axis=0)\n",
    "f_ymean"
   ]
  },
  {
   "cell_type": "code",
   "execution_count": 78,
   "id": "8f3fbc81-a03c-48d5-8d54-2aaced6d4c78",
   "metadata": {},
   "outputs": [
    {
     "data": {
      "text/plain": [
       "(100,)"
      ]
     },
     "execution_count": 78,
     "metadata": {},
     "output_type": "execute_result"
    }
   ],
   "source": [
    "f_ymean.shape"
   ]
  },
  {
   "cell_type": "code",
   "execution_count": 79,
   "id": "a8aa3938-0e90-4197-abfa-9bd29584f3b4",
   "metadata": {},
   "outputs": [
    {
     "data": {
      "text/plain": [
       "[<matplotlib.lines.Line2D at 0x7de0f57f8bd0>]"
      ]
     },
     "execution_count": 79,
     "metadata": {},
     "output_type": "execute_result"
    },
    {
     "data": {
      "image/png": "[encoded data removed]",
      "text/plain": [
       "<Figure size 640x480 with 1 Axes>"
      ]
     },
     "metadata": {},
     "output_type": "display_data"
    }
   ],
   "source": [
    "plt.plot(x,f_ymean)"
   ]
  },
  {
   "cell_type": "code",
   "execution_count": 80,
   "id": "f023cbd2-adf3-4874-a7e9-9dfdcb866707",
   "metadata": {},
   "outputs": [
    {
     "data": {
      "text/plain": [
       "(50,)"
      ]
     },
     "execution_count": 80,
     "metadata": {},
     "output_type": "execute_result"
    }
   ],
   "source": [
    "f_xmean= f.mean(axis=1)\n",
    "f_xmean.shape"
   ]
  },
  {
   "cell_type": "code",
   "execution_count": 81,
   "id": "0220a04e-8f71-4af5-a5ca-9a558bb4fc36",
   "metadata": {},
   "outputs": [
    {
     "data": {
      "text/plain": [
       "[<matplotlib.lines.Line2D at 0x7de0f415e510>]"
      ]
     },
     "execution_count": 81,
     "metadata": {},
     "output_type": "execute_result"
    },
    {
     "data": {
      "image/png": "[encoded data removed]",
      "text/plain": [
       "<Figure size 640x480 with 1 Axes>"
      ]
     },
     "metadata": {},
     "output_type": "display_data"
    }
   ],
   "source": [
    "plt.plot(f_xmean,y)"
   ]
  },
  {
   "cell_type": "code",
   "execution_count": 82,
   "id": "ba07d9d2-23ed-470b-8cdd-26faa00a18bf",
   "metadata": {},
   "outputs": [],
   "source": [
    "import pandas as pd"
   ]
  },
  {
   "cell_type": "code",
   "execution_count": 83,
   "id": "b948a3de-877a-4e8a-925b-336c98ec4cef",
   "metadata": {},
   "outputs": [],
   "source": [
    "data = pd.read_csv('/data9/UN3400/data/centralpark.csv')"
   ]
  },
  {
   "cell_type": "code",
   "execution_count": 84,
   "id": "350c3156-0fbc-48e5-a173-ba8c9c8d6487",
   "metadata": {},
   "outputs": [
    {
     "data": {
      "text/html": [
       "<div>\n",
       "<style scoped>\n",
       "    .dataframe tbody tr th:only-of-type {\n",
       "        vertical-align: middle;\n",
       "    }\n",
       "\n",
       "    .dataframe tbody tr th {\n",
       "        vertical-align: top;\n",
       "    }\n",
       "\n",
       "    .dataframe thead th {\n",
       "        text-align: right;\n",
       "    }\n",
       "</style>\n",
       "<table border=\"1\" class=\"dataframe\">\n",
       "  <thead>\n",
       "    <tr style=\"text-align: right;\">\n",
       "      <th></th>\n",
       "      <th>STATION</th>\n",
       "      <th>NAME</th>\n",
       "      <th>DATE</th>\n",
       "      <th>TAVG</th>\n",
       "      <th>TMAX</th>\n",
       "      <th>TMIN</th>\n",
       "      <th>TOBS</th>\n",
       "    </tr>\n",
       "  </thead>\n",
       "  <tbody>\n",
       "    <tr>\n",
       "      <th>0</th>\n",
       "      <td>USW00094728</td>\n",
       "      <td>NY CITY CENTRAL PARK, NY US</td>\n",
       "      <td>1869-01-01</td>\n",
       "      <td>NaN</td>\n",
       "      <td>29.0</td>\n",
       "      <td>19.0</td>\n",
       "      <td>NaN</td>\n",
       "    </tr>\n",
       "    <tr>\n",
       "      <th>1</th>\n",
       "      <td>USW00094728</td>\n",
       "      <td>NY CITY CENTRAL PARK, NY US</td>\n",
       "      <td>1869-01-02</td>\n",
       "      <td>NaN</td>\n",
       "      <td>27.0</td>\n",
       "      <td>21.0</td>\n",
       "      <td>NaN</td>\n",
       "    </tr>\n",
       "    <tr>\n",
       "      <th>2</th>\n",
       "      <td>USW00094728</td>\n",
       "      <td>NY CITY CENTRAL PARK, NY US</td>\n",
       "      <td>1869-01-03</td>\n",
       "      <td>NaN</td>\n",
       "      <td>35.0</td>\n",
       "      <td>27.0</td>\n",
       "      <td>NaN</td>\n",
       "    </tr>\n",
       "    <tr>\n",
       "      <th>3</th>\n",
       "      <td>USW00094728</td>\n",
       "      <td>NY CITY CENTRAL PARK, NY US</td>\n",
       "      <td>1869-01-04</td>\n",
       "      <td>NaN</td>\n",
       "      <td>37.0</td>\n",
       "      <td>34.0</td>\n",
       "      <td>NaN</td>\n",
       "    </tr>\n",
       "    <tr>\n",
       "      <th>4</th>\n",
       "      <td>USW00094728</td>\n",
       "      <td>NY CITY CENTRAL PARK, NY US</td>\n",
       "      <td>1869-01-05</td>\n",
       "      <td>NaN</td>\n",
       "      <td>43.0</td>\n",
       "      <td>37.0</td>\n",
       "      <td>NaN</td>\n",
       "    </tr>\n",
       "    <tr>\n",
       "      <th>...</th>\n",
       "      <td>...</td>\n",
       "      <td>...</td>\n",
       "      <td>...</td>\n",
       "      <td>...</td>\n",
       "      <td>...</td>\n",
       "      <td>...</td>\n",
       "      <td>...</td>\n",
       "    </tr>\n",
       "    <tr>\n",
       "      <th>56656</th>\n",
       "      <td>USW00094728</td>\n",
       "      <td>NY CITY CENTRAL PARK, NY US</td>\n",
       "      <td>2024-02-14</td>\n",
       "      <td>NaN</td>\n",
       "      <td>38.0</td>\n",
       "      <td>29.0</td>\n",
       "      <td>NaN</td>\n",
       "    </tr>\n",
       "    <tr>\n",
       "      <th>56657</th>\n",
       "      <td>USW00094728</td>\n",
       "      <td>NY CITY CENTRAL PARK, NY US</td>\n",
       "      <td>2024-02-15</td>\n",
       "      <td>NaN</td>\n",
       "      <td>39.0</td>\n",
       "      <td>27.0</td>\n",
       "      <td>NaN</td>\n",
       "    </tr>\n",
       "    <tr>\n",
       "      <th>56658</th>\n",
       "      <td>USW00094728</td>\n",
       "      <td>NY CITY CENTRAL PARK, NY US</td>\n",
       "      <td>2024-02-16</td>\n",
       "      <td>NaN</td>\n",
       "      <td>43.0</td>\n",
       "      <td>36.0</td>\n",
       "      <td>NaN</td>\n",
       "    </tr>\n",
       "    <tr>\n",
       "      <th>56659</th>\n",
       "      <td>USW00094728</td>\n",
       "      <td>NY CITY CENTRAL PARK, NY US</td>\n",
       "      <td>2024-02-17</td>\n",
       "      <td>NaN</td>\n",
       "      <td>36.0</td>\n",
       "      <td>27.0</td>\n",
       "      <td>NaN</td>\n",
       "    </tr>\n",
       "    <tr>\n",
       "      <th>56660</th>\n",
       "      <td>USW00094728</td>\n",
       "      <td>NY CITY CENTRAL PARK, NY US</td>\n",
       "      <td>2024-02-18</td>\n",
       "      <td>NaN</td>\n",
       "      <td>40.0</td>\n",
       "      <td>26.0</td>\n",
       "      <td>NaN</td>\n",
       "    </tr>\n",
       "  </tbody>\n",
       "</table>\n",
       "<p>56661 rows × 7 columns</p>\n",
       "</div>"
      ],
      "text/plain": [
       "           STATION                         NAME        DATE  TAVG  TMAX  TMIN  \\\n",
       "0      USW00094728  NY CITY CENTRAL PARK, NY US  1869-01-01   NaN  29.0  19.0   \n",
       "1      USW00094728  NY CITY CENTRAL PARK, NY US  1869-01-02   NaN  27.0  21.0   \n",
       "2      USW00094728  NY CITY CENTRAL PARK, NY US  1869-01-03   NaN  35.0  27.0   \n",
       "3      USW00094728  NY CITY CENTRAL PARK, NY US  1869-01-04   NaN  37.0  34.0   \n",
       "4      USW00094728  NY CITY CENTRAL PARK, NY US  1869-01-05   NaN  43.0  37.0   \n",
       "...            ...                          ...         ...   ...   ...   ...   \n",
       "56656  USW00094728  NY CITY CENTRAL PARK, NY US  2024-02-14   NaN  38.0  29.0   \n",
       "56657  USW00094728  NY CITY CENTRAL PARK, NY US  2024-02-15   NaN  39.0  27.0   \n",
       "56658  USW00094728  NY CITY CENTRAL PARK, NY US  2024-02-16   NaN  43.0  36.0   \n",
       "56659  USW00094728  NY CITY CENTRAL PARK, NY US  2024-02-17   NaN  36.0  27.0   \n",
       "56660  USW00094728  NY CITY CENTRAL PARK, NY US  2024-02-18   NaN  40.0  26.0   \n",
       "\n",
       "       TOBS  \n",
       "0       NaN  \n",
       "1       NaN  \n",
       "2       NaN  \n",
       "3       NaN  \n",
       "4       NaN  \n",
       "...     ...  \n",
       "56656   NaN  \n",
       "56657   NaN  \n",
       "56658   NaN  \n",
       "56659   NaN  \n",
       "56660   NaN  \n",
       "\n",
       "[56661 rows x 7 columns]"
      ]
     },
     "execution_count": 84,
     "metadata": {},
     "output_type": "execute_result"
    }
   ],
   "source": [
    "data"
   ]
  },
  {
   "cell_type": "code",
   "execution_count": 85,
   "id": "a377e101-6272-4783-b847-a5df61b51f7d",
   "metadata": {},
   "outputs": [
    {
     "data": {
      "text/html": [
       "<div>\n",
       "<style scoped>\n",
       "    .dataframe tbody tr th:only-of-type {\n",
       "        vertical-align: middle;\n",
       "    }\n",
       "\n",
       "    .dataframe tbody tr th {\n",
       "        vertical-align: top;\n",
       "    }\n",
       "\n",
       "    .dataframe thead th {\n",
       "        text-align: right;\n",
       "    }\n",
       "</style>\n",
       "<table border=\"1\" class=\"dataframe\">\n",
       "  <thead>\n",
       "    <tr style=\"text-align: right;\">\n",
       "      <th></th>\n",
       "      <th>DATE</th>\n",
       "      <th>TMAX</th>\n",
       "    </tr>\n",
       "  </thead>\n",
       "  <tbody>\n",
       "    <tr>\n",
       "      <th>0</th>\n",
       "      <td>1869-01-01</td>\n",
       "      <td>29.0</td>\n",
       "    </tr>\n",
       "    <tr>\n",
       "      <th>1</th>\n",
       "      <td>1869-01-02</td>\n",
       "      <td>27.0</td>\n",
       "    </tr>\n",
       "    <tr>\n",
       "      <th>2</th>\n",
       "      <td>1869-01-03</td>\n",
       "      <td>35.0</td>\n",
       "    </tr>\n",
       "    <tr>\n",
       "      <th>3</th>\n",
       "      <td>1869-01-04</td>\n",
       "      <td>37.0</td>\n",
       "    </tr>\n",
       "    <tr>\n",
       "      <th>4</th>\n",
       "      <td>1869-01-05</td>\n",
       "      <td>43.0</td>\n",
       "    </tr>\n",
       "    <tr>\n",
       "      <th>...</th>\n",
       "      <td>...</td>\n",
       "      <td>...</td>\n",
       "    </tr>\n",
       "    <tr>\n",
       "      <th>56656</th>\n",
       "      <td>2024-02-14</td>\n",
       "      <td>38.0</td>\n",
       "    </tr>\n",
       "    <tr>\n",
       "      <th>56657</th>\n",
       "      <td>2024-02-15</td>\n",
       "      <td>39.0</td>\n",
       "    </tr>\n",
       "    <tr>\n",
       "      <th>56658</th>\n",
       "      <td>2024-02-16</td>\n",
       "      <td>43.0</td>\n",
       "    </tr>\n",
       "    <tr>\n",
       "      <th>56659</th>\n",
       "      <td>2024-02-17</td>\n",
       "      <td>36.0</td>\n",
       "    </tr>\n",
       "    <tr>\n",
       "      <th>56660</th>\n",
       "      <td>2024-02-18</td>\n",
       "      <td>40.0</td>\n",
       "    </tr>\n",
       "  </tbody>\n",
       "</table>\n",
       "<p>56661 rows × 2 columns</p>\n",
       "</div>"
      ],
      "text/plain": [
       "             DATE  TMAX\n",
       "0      1869-01-01  29.0\n",
       "1      1869-01-02  27.0\n",
       "2      1869-01-03  35.0\n",
       "3      1869-01-04  37.0\n",
       "4      1869-01-05  43.0\n",
       "...           ...   ...\n",
       "56656  2024-02-14  38.0\n",
       "56657  2024-02-15  39.0\n",
       "56658  2024-02-16  43.0\n",
       "56659  2024-02-17  36.0\n",
       "56660  2024-02-18  40.0\n",
       "\n",
       "[56661 rows x 2 columns]"
      ]
     },
     "execution_count": 85,
     "metadata": {},
     "output_type": "execute_result"
    }
   ],
   "source": [
    "df = pd.DataFrame(data, columns=['DATE','TMAX'])\n",
    "df"
   ]
  },
  {
   "cell_type": "code",
   "execution_count": 86,
   "id": "524d350f-d17f-4c78-8cf2-27dd5d502883",
   "metadata": {},
   "outputs": [
    {
     "data": {
      "text/html": [
       "<div>\n",
       "<style scoped>\n",
       "    .dataframe tbody tr th:only-of-type {\n",
       "        vertical-align: middle;\n",
       "    }\n",
       "\n",
       "    .dataframe tbody tr th {\n",
       "        vertical-align: top;\n",
       "    }\n",
       "\n",
       "    .dataframe thead th {\n",
       "        text-align: right;\n",
       "    }\n",
       "</style>\n",
       "<table border=\"1\" class=\"dataframe\">\n",
       "  <thead>\n",
       "    <tr style=\"text-align: right;\">\n",
       "      <th></th>\n",
       "      <th>TMAX</th>\n",
       "    </tr>\n",
       "    <tr>\n",
       "      <th>DATE</th>\n",
       "      <th></th>\n",
       "    </tr>\n",
       "  </thead>\n",
       "  <tbody>\n",
       "    <tr>\n",
       "      <th>1869-01-01</th>\n",
       "      <td>29.0</td>\n",
       "    </tr>\n",
       "    <tr>\n",
       "      <th>1869-01-02</th>\n",
       "      <td>27.0</td>\n",
       "    </tr>\n",
       "    <tr>\n",
       "      <th>1869-01-03</th>\n",
       "      <td>35.0</td>\n",
       "    </tr>\n",
       "    <tr>\n",
       "      <th>1869-01-04</th>\n",
       "      <td>37.0</td>\n",
       "    </tr>\n",
       "    <tr>\n",
       "      <th>1869-01-05</th>\n",
       "      <td>43.0</td>\n",
       "    </tr>\n",
       "    <tr>\n",
       "      <th>...</th>\n",
       "      <td>...</td>\n",
       "    </tr>\n",
       "    <tr>\n",
       "      <th>2024-02-14</th>\n",
       "      <td>38.0</td>\n",
       "    </tr>\n",
       "    <tr>\n",
       "      <th>2024-02-15</th>\n",
       "      <td>39.0</td>\n",
       "    </tr>\n",
       "    <tr>\n",
       "      <th>2024-02-16</th>\n",
       "      <td>43.0</td>\n",
       "    </tr>\n",
       "    <tr>\n",
       "      <th>2024-02-17</th>\n",
       "      <td>36.0</td>\n",
       "    </tr>\n",
       "    <tr>\n",
       "      <th>2024-02-18</th>\n",
       "      <td>40.0</td>\n",
       "    </tr>\n",
       "  </tbody>\n",
       "</table>\n",
       "<p>56661 rows × 1 columns</p>\n",
       "</div>"
      ],
      "text/plain": [
       "            TMAX\n",
       "DATE            \n",
       "1869-01-01  29.0\n",
       "1869-01-02  27.0\n",
       "1869-01-03  35.0\n",
       "1869-01-04  37.0\n",
       "1869-01-05  43.0\n",
       "...          ...\n",
       "2024-02-14  38.0\n",
       "2024-02-15  39.0\n",
       "2024-02-16  43.0\n",
       "2024-02-17  36.0\n",
       "2024-02-18  40.0\n",
       "\n",
       "[56661 rows x 1 columns]"
      ]
     },
     "execution_count": 86,
     "metadata": {},
     "output_type": "execute_result"
    }
   ],
   "source": [
    "df = df.set_index('DATE')\n",
    "df"
   ]
  },
  {
   "cell_type": "code",
   "execution_count": null,
   "id": "b650bc4c-b64e-4de4-bb01-58e8727de4b2",
   "metadata": {},
   "outputs": [],
   "source": [
    "df1869 = df.loc['1869-01-01':'1869-12-31']\n",
    "df1869"
   ]
  },
  {
   "cell_type": "code",
   "execution_count": 88,
   "id": "97f9dd33-61c5-4106-8612-24b219c8fe98",
   "metadata": {},
   "outputs": [
    {
     "data": {
      "text/html": [
       "<div>\n",
       "<style scoped>\n",
       "    .dataframe tbody tr th:only-of-type {\n",
       "        vertical-align: middle;\n",
       "    }\n",
       "\n",
       "    .dataframe tbody tr th {\n",
       "        vertical-align: top;\n",
       "    }\n",
       "\n",
       "    .dataframe thead th {\n",
       "        text-align: right;\n",
       "    }\n",
       "</style>\n",
       "<table border=\"1\" class=\"dataframe\">\n",
       "  <thead>\n",
       "    <tr style=\"text-align: right;\">\n",
       "      <th></th>\n",
       "      <th>TMAX</th>\n",
       "    </tr>\n",
       "    <tr>\n",
       "      <th>DATE</th>\n",
       "      <th></th>\n",
       "    </tr>\n",
       "  </thead>\n",
       "  <tbody>\n",
       "    <tr>\n",
       "      <th>2023-01-01</th>\n",
       "      <td>55.0</td>\n",
       "    </tr>\n",
       "    <tr>\n",
       "      <th>2023-01-02</th>\n",
       "      <td>56.0</td>\n",
       "    </tr>\n",
       "    <tr>\n",
       "      <th>2023-01-03</th>\n",
       "      <td>58.0</td>\n",
       "    </tr>\n",
       "    <tr>\n",
       "      <th>2023-01-04</th>\n",
       "      <td>66.0</td>\n",
       "    </tr>\n",
       "    <tr>\n",
       "      <th>2023-01-05</th>\n",
       "      <td>50.0</td>\n",
       "    </tr>\n",
       "    <tr>\n",
       "      <th>...</th>\n",
       "      <td>...</td>\n",
       "    </tr>\n",
       "    <tr>\n",
       "      <th>2023-12-27</th>\n",
       "      <td>50.0</td>\n",
       "    </tr>\n",
       "    <tr>\n",
       "      <th>2023-12-28</th>\n",
       "      <td>55.0</td>\n",
       "    </tr>\n",
       "    <tr>\n",
       "      <th>2023-12-29</th>\n",
       "      <td>55.0</td>\n",
       "    </tr>\n",
       "    <tr>\n",
       "      <th>2023-12-30</th>\n",
       "      <td>46.0</td>\n",
       "    </tr>\n",
       "    <tr>\n",
       "      <th>2023-12-31</th>\n",
       "      <td>43.0</td>\n",
       "    </tr>\n",
       "  </tbody>\n",
       "</table>\n",
       "<p>365 rows × 1 columns</p>\n",
       "</div>"
      ],
      "text/plain": [
       "            TMAX\n",
       "DATE            \n",
       "2023-01-01  55.0\n",
       "2023-01-02  56.0\n",
       "2023-01-03  58.0\n",
       "2023-01-04  66.0\n",
       "2023-01-05  50.0\n",
       "...          ...\n",
       "2023-12-27  50.0\n",
       "2023-12-28  55.0\n",
       "2023-12-29  55.0\n",
       "2023-12-30  46.0\n",
       "2023-12-31  43.0\n",
       "\n",
       "[365 rows x 1 columns]"
      ]
     },
     "execution_count": 88,
     "metadata": {},
     "output_type": "execute_result"
    }
   ],
   "source": [
    "df2023 = df.loc['2023-01-01':'2023-12-31']\n",
    "df2023"
   ]
  },
  {
   "cell_type": "code",
   "execution_count": 95,
   "id": "8b821473-b2fc-479c-848a-7d6e1fcdcbf1",
   "metadata": {},
   "outputs": [
    {
     "data": {
      "text/plain": [
       "Text(0, 0.5, 'Daily max Temp in degF')"
      ]
     },
     "execution_count": 95,
     "metadata": {},
     "output_type": "execute_result"
    },
    {
     "data": {
      "image/png": "[encoded data removed]",
      "text/plain": [
       "<Figure size 640x480 with 1 Axes>"
      ]
     },
     "metadata": {},
     "output_type": "display_data"
    }
   ],
   "source": [
    "plt.plot(np.array(df1869['TMAX']),label='1869')\n",
    "plt.plot(np.array(df2023['TMAX']),label='2023')\n",
    "plt.legend()\n",
    "plt.xlabel('day of year')\n",
    "plt.ylabel('Daily max Temp in degF')"
   ]
  },
  {
   "cell_type": "code",
   "execution_count": null,
   "id": "454d001a-3a7c-4f64-82ba-aeb87b47bc20",
   "metadata": {},
   "outputs": [],
   "source": []
  }
 ],
 "metadata": {
  "kernelspec": {
   "display_name": "pangeo23",
   "language": "python",
   "name": "pangeo23"
  },
  "language_info": {
   "codemirror_mode": {
    "name": "ipython",
    "version": 3
   },
   "file_extension": ".py",
   "mimetype": "text/x-python",
   "name": "python",
   "nbconvert_exporter": "python",
   "pygments_lexer": "ipython3",
   "version": "3.11.6"
  }
 },
 "nbformat": 4,
 "nbformat_minor": 5
}
