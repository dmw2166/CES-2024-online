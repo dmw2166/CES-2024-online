{
 "cells": [
  {
   "cell_type": "markdown",
   "id": "22203d61-aeb2-446b-b556-512796edb9de",
   "metadata": {},
   "source": [
    "## 1"
   ]
  },
  {
   "cell_type": "code",
   "execution_count": 1,
   "id": "20484242-6390-4944-9c6a-a288e0361fcd",
   "metadata": {},
   "outputs": [],
   "source": [
    "def kelvin_to_celsius(temp):\n",
    "    return temp - 273.15"
   ]
  },
  {
   "cell_type": "code",
   "execution_count": 2,
   "id": "9cd2d65d-009f-4f91-8504-e990adc2edfc",
   "metadata": {},
   "outputs": [
    {
     "data": {
      "text/plain": [
       "24.850000000000023"
      ]
     },
     "execution_count": 2,
     "metadata": {},
     "output_type": "execute_result"
    }
   ],
   "source": [
    "kelvin_to_celsius(298)"
   ]
  },
  {
   "cell_type": "code",
   "execution_count": 4,
   "id": "099fcb37-1701-4e53-981b-ef3b3a6e5846",
   "metadata": {},
   "outputs": [],
   "source": [
    "def to_fahrenheit(temp, kelvin=False):\n",
    "    if kelvin:\n",
    "        temp_c = kelvin_to_celsius(temp)\n",
    "    else:\n",
    "        temp_c = temp\n",
    "    return temp_c*(9/5) + 32\n",
    "    "
   ]
  },
  {
   "cell_type": "code",
   "execution_count": 9,
   "id": "77a69ac8-80e6-4b8d-93bd-effcba62eae0",
   "metadata": {},
   "outputs": [
    {
     "data": {
      "text/plain": [
       "32.0"
      ]
     },
     "execution_count": 9,
     "metadata": {},
     "output_type": "execute_result"
    }
   ],
   "source": [
    "to_fahrenheit(0)"
   ]
  },
  {
   "cell_type": "code",
   "execution_count": 7,
   "id": "7f458373-cb7f-491f-b631-91c1e7a35fd5",
   "metadata": {},
   "outputs": [
    {
     "data": {
      "text/plain": [
       "76.73000000000005"
      ]
     },
     "execution_count": 7,
     "metadata": {},
     "output_type": "execute_result"
    }
   ],
   "source": [
    "to_fahrenheit(298,kelvin=True)"
   ]
  },
  {
   "cell_type": "code",
   "execution_count": null,
   "id": "98745aec-ea93-4d27-b209-95cc9d93f477",
   "metadata": {},
   "outputs": [],
   "source": []
  }
 ],
 "metadata": {
  "kernelspec": {
   "display_name": "pangeo23",
   "language": "python",
   "name": "pangeo23"
  },
  "language_info": {
   "codemirror_mode": {
    "name": "ipython",
    "version": 3
   },
   "file_extension": ".py",
   "mimetype": "text/x-python",
   "name": "python",
   "nbconvert_exporter": "python",
   "pygments_lexer": "ipython3",
   "version": "3.11.6"
  }
 },
 "nbformat": 4,
 "nbformat_minor": 5
}
