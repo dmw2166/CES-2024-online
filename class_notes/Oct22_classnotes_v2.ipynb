{
 "cells": [
  {
   "cell_type": "code",
   "execution_count": 1,
   "id": "f371f385-95e1-4005-ab91-9ce8e5690b54",
   "metadata": {},
   "outputs": [],
   "source": [
    "import numpy as np"
   ]
  },
  {
   "cell_type": "code",
   "execution_count": 2,
   "id": "0438bc4c-9920-4e93-9134-652ca8e0e63a",
   "metadata": {},
   "outputs": [],
   "source": [
    "solarconstant = 1366 #W/m2\n",
    "albedo = 0.3\n",
    "stefanboltzman = 5.670374419e-8 #W/m2/K4"
   ]
  },
  {
   "cell_type": "markdown",
   "id": "c1f1b893-35dc-4c9d-b052-5f9d0fed94c5",
   "metadata": {},
   "source": [
    "![image.png](attachment:fb0c2beb-0c3a-44c3-821d-2ff8ee3f9836.png)"
   ]
  },
  {
   "cell_type": "code",
   "execution_count": 3,
   "id": "f3deb45d-cedd-4c9a-8a5a-118e7b737d67",
   "metadata": {},
   "outputs": [],
   "source": [
    "Te = (solarconstant*(1-albedo)/(4*stefanboltzman))**(1/4)"
   ]
  },
  {
   "cell_type": "code",
   "execution_count": 4,
   "id": "0821cf84-da56-4d05-a6c5-0312b1fcde70",
   "metadata": {},
   "outputs": [
    {
     "name": "stdout",
     "output_type": "stream",
     "text": [
      "Average temperature of the earth is 254.8116 Kelvin or -18.3384 deg C\n"
     ]
    }
   ],
   "source": [
    "print(\"Average temperature of the earth is %0.4f Kelvin or %0.4f deg C\" % (Te, Te-273.15))"
   ]
  },
  {
   "cell_type": "code",
   "execution_count": 5,
   "id": "18ba110a-3736-4e82-87b6-9637682bc1b7",
   "metadata": {},
   "outputs": [],
   "source": [
    "epsilon = 0.78\n",
    "T_s = ((solarconstant*(1-albedo) /4) / (stefanboltzman*(1-epsilon/2))) ** (1/4)\n",
    "T_a = (epsilon*stefanboltzman*T_s**4 / (2*stefanboltzman)) ** (1/4)"
   ]
  },
  {
   "cell_type": "code",
   "execution_count": 6,
   "id": "909036c3-5b7c-4e63-a3dc-61e5857bf220",
   "metadata": {},
   "outputs": [
    {
     "name": "stdout",
     "output_type": "stream",
     "text": [
      "Average temperature of the earth is 288.3280 Kelvin or 15.1780 deg C\n"
     ]
    }
   ],
   "source": [
    "print(\"Average temperature of the earth is %0.4f Kelvin or %0.4f deg C\" % (T_s, T_s-273.15))"
   ]
  },
  {
   "cell_type": "code",
   "execution_count": 7,
   "id": "a89fda1f-b848-4b93-8b45-aa49bf785e21",
   "metadata": {},
   "outputs": [
    {
     "data": {
      "text/plain": [
       "0.016732901066722455"
      ]
     },
     "execution_count": 7,
     "metadata": {},
     "output_type": "execute_result"
    }
   ],
   "source": [
    "deleps = -4 / (stefanboltzman* T_a**4 - stefanboltzman*T_s**4)\n",
    "deleps"
   ]
  },
  {
   "cell_type": "code",
   "execution_count": 8,
   "id": "65a362db-1d6b-4ca0-97db-811a3f975ef5",
   "metadata": {},
   "outputs": [
    {
     "data": {
      "text/plain": [
       "0.7967329010667225"
      ]
     },
     "execution_count": 8,
     "metadata": {},
     "output_type": "execute_result"
    }
   ],
   "source": [
    "neweps = epsilon + deleps\n",
    "neweps"
   ]
  },
  {
   "cell_type": "code",
   "execution_count": 9,
   "id": "b8499107-3bd2-4fe6-b8fb-2405b4d8bd38",
   "metadata": {},
   "outputs": [
    {
     "name": "stdout",
     "output_type": "stream",
     "text": [
      "Average temperature of the earth is 289.3252 Kelvin or 16.1752 deg C\n"
     ]
    }
   ],
   "source": [
    "T_s_new = ((solarconstant*(1-albedo) /4) / (stefanboltzman*(1-neweps/2))) ** (1/4)\n",
    "print(\"Average temperature of the earth is %0.4f Kelvin or %0.4f deg C\" % (T_s_new, T_s_new-273.15))"
   ]
  },
  {
   "cell_type": "code",
   "execution_count": 10,
   "id": "8ccf025b-0e85-40e5-bd4e-ec7d844ab051",
   "metadata": {},
   "outputs": [
    {
     "name": "stdout",
     "output_type": "stream",
     "text": [
      "0.9972030491054511\n"
     ]
    }
   ],
   "source": [
    "warming = T_s_new - T_s\n",
    "print(warming)"
   ]
  },
  {
   "cell_type": "code",
   "execution_count": 11,
   "id": "e6b2d109-8edc-4c93-9e19-8fb086d220b3",
   "metadata": {},
   "outputs": [],
   "source": [
    "from matplotlib import pyplot as plt\n",
    "from scipy.integrate import solve_ivp"
   ]
  },
  {
   "cell_type": "code",
   "execution_count": 12,
   "id": "b23f64e9-4b45-44e5-9e48-4d3b11dfec41",
   "metadata": {},
   "outputs": [],
   "source": [
    "M = 1\n",
    "solarconstant = 1366\n",
    "albedo = 0.3\n",
    "stefanboltzman = 5.670374419e-8\n",
    "heatcapacity = 4.0e8 #J/m2/K"
   ]
  },
  {
   "cell_type": "code",
   "execution_count": 13,
   "id": "b2fe8b70-82e6-42c6-b442-c4ef7b6a82c1",
   "metadata": {},
   "outputs": [],
   "source": [
    "u = np.zeros((M,))\n",
    "\n",
    "def myfun(t, u): \n",
    "    f = np.zeros((M,))\n",
    "    f[0] = (solarconstant*(1-albedo)/4 - stefanboltzman*(u[0]**4))/heatcapacity\n",
    "    return f"
   ]
  },
  {
   "cell_type": "code",
   "execution_count": 14,
   "id": "929692cb-76e4-4255-9ac8-f09abed7e467",
   "metadata": {},
   "outputs": [],
   "source": [
    "u0 = np.zeros((M,))\n",
    "t0 = 0.0\n",
    "\n",
    "Dt = 60*60*365*24\n",
    "tmax = 100*Dt\n",
    "t = np.arange(t0,tmax,Dt)\n",
    "N = np.shape(t)[0]"
   ]
  },
  {
   "cell_type": "code",
   "execution_count": 15,
   "id": "89bfc80b-b2fc-4af2-b117-106af3d23a4f",
   "metadata": {},
   "outputs": [],
   "source": [
    "sol = solve_ivp(myfun, [t0,tmax],u0, method='RK45', t_eval = t)"
   ]
  },
  {
   "cell_type": "code",
   "execution_count": 16,
   "id": "563246a8-8c9e-40df-9939-32a96cc6606e",
   "metadata": {},
   "outputs": [
    {
     "data": {
      "text/plain": [
       "Text(0, 0.5, 'Temperature (K)')"
      ]
     },
     "execution_count": 16,
     "metadata": {},
     "output_type": "execute_result"
    },
    {
     "data": {
      "image/png": "[encoded data removed]",
      "text/plain": [
       "<Figure size 640x480 with 1 Axes>"
      ]
     },
     "metadata": {},
     "output_type": "display_data"
    }
   ],
   "source": [
    "fig = plt.figure()\n",
    "plt.plot(sol.t/(60*60*365*24),sol.y[0],'k-')\n",
    "plt.xlabel('time (year)')\n",
    "plt.ylabel('Temperature (K)')"
   ]
  },
  {
   "cell_type": "code",
   "execution_count": 29,
   "id": "c3e17ebb-ca33-48c9-9a40-dbc3b803e786",
   "metadata": {},
   "outputs": [],
   "source": [
    "M = 2 \n",
    "#u[0] is Ta\n",
    "#u[1] is Ts\n",
    "\n",
    "def myfun( t, u): \n",
    "    f = np.zeros((M,))\n",
    "    f[0] = (solarconstant * (1-albedo)/4 - epsilon*stefanboltzman*(u[0]**4) \n",
    "            - (1-epsilon)*stefanboltzman*(u[1]**4))/heatcapacity\n",
    "    f[1] = (solarconstant * (1-albedo)/4 + epsilon*stefanboltzman*(u[0]**4) - \n",
    "            stefanboltzman*(u[1]**4))/heatcapacity\n",
    "    return f\n",
    "    "
   ]
  },
  {
   "cell_type": "code",
   "execution_count": 34,
   "id": "d9d7d33f-9c51-48cd-84e6-38e31142c61d",
   "metadata": {},
   "outputs": [],
   "source": [
    "# initial conditions\n",
    "#u0 = np.zeros((M))\n",
    "u0 = [290,300]\n",
    "\n",
    "Dt = 60*60*365*24\n",
    "t0 = 0\n",
    "tmax = 100*Dt\n",
    "t = np.arange(t0, tmax, Dt)\n",
    "N = np.shape(t)[0]\n"
   ]
  },
  {
   "cell_type": "code",
   "execution_count": 35,
   "id": "dfd181e2-ff20-4c41-941f-5629ce9665d3",
   "metadata": {},
   "outputs": [],
   "source": [
    "sol = solve_ivp(myfun, [t0, tmax], u0, method='RK45', t_eval=t)"
   ]
  },
  {
   "cell_type": "code",
   "execution_count": 36,
   "id": "f43a4ced-d033-4ec2-aa94-f203022684bc",
   "metadata": {},
   "outputs": [
    {
     "name": "stdout",
     "output_type": "stream",
     "text": [
      "[300.         304.06172466 304.19363825 302.58909541 300.34665977\n",
      " 298.11745843 296.1559569  294.52639395 293.14140561 291.98947637\n",
      " 291.12757531 290.48033285 289.96698714 289.5470269  289.20909322\n",
      " 288.97044589 288.81429885 288.69983384 288.61025905 288.53465416\n",
      " 288.4679704  288.4110305  288.37052873 288.35913985 288.38501361\n",
      " 288.42597418 288.46009829 288.47265541 288.45610774 288.41011024\n",
      " 288.34151058 288.26434919 288.19985923 288.17646659 288.21973115\n",
      " 288.29314735 288.37009897 288.43383535 288.47272008 288.48023098\n",
      " 288.45496015 288.40061392 288.32601289 288.2450919  288.17690003\n",
      " 288.14560064 288.15155912 288.11013238 288.05951435 288.03802618\n",
      " 288.06709858 288.15127181 288.27819572 288.4186297  288.52644271\n",
      " 288.53861329 288.46007564 288.3820116  288.3205719  288.28545758\n",
      " 288.28036641 288.30299286 288.34502813 288.39216013 288.4240735\n",
      " 288.41870859 288.42431403 288.44476445 288.4611278  288.46084247\n",
      " 288.43771733 288.39193173 288.33003546 288.26494881 288.2159625\n",
      " 288.20873776 288.25845673 288.32672333 288.38873883 288.42818314\n",
      " 288.43600283 288.41041113 288.35688786 288.2881795  288.22429919\n",
      " 288.19252666 288.21127581 288.21619691 288.21105675 288.20996626\n",
      " 288.22176998 288.25004603 288.29310612 288.34399555 288.39049319\n",
      " 288.41511152 288.3975795  288.37162432 288.35459985 288.34406122]\n"
     ]
    }
   ],
   "source": [
    "print(sol.y[1])"
   ]
  },
  {
   "cell_type": "code",
   "execution_count": 37,
   "id": "a6d7cbe9-c01f-410b-a609-2e865bf2164e",
   "metadata": {},
   "outputs": [
    {
     "data": {
      "text/plain": [
       "<matplotlib.legend.Legend at 0x7d8c56b9e0d0>"
      ]
     },
     "execution_count": 37,
     "metadata": {},
     "output_type": "execute_result"
    },
    {
     "data": {
      "image/png": "[encoded data removed]",
      "text/plain": [
       "<Figure size 640x480 with 1 Axes>"
      ]
     },
     "metadata": {},
     "output_type": "display_data"
    }
   ],
   "source": [
    "fig = plt.figure()\n",
    "plt.plot(sol.t / (60*60*365*24), sol.y[0], 'k-', label='atmos T')\n",
    "plt.plot(sol.t / (60*60*365*24), sol.y[1], 'r-', label='surface T')\n",
    "plt.xlabel('Time (year)')\n",
    "plt.ylabel('Temperature (K)')\n",
    "plt.legend()"
   ]
  },
  {
   "cell_type": "code",
   "execution_count": null,
   "id": "98361147-52ce-4121-acd2-92c2eff3661f",
   "metadata": {},
   "outputs": [],
   "source": []
  }
 ],
 "metadata": {
  "kernelspec": {
   "display_name": "pangeo23",
   "language": "python",
   "name": "pangeo23"
  },
  "language_info": {
   "codemirror_mode": {
    "name": "ipython",
    "version": 3
   },
   "file_extension": ".py",
   "mimetype": "text/x-python",
   "name": "python",
   "nbconvert_exporter": "python",
   "pygments_lexer": "ipython3",
   "version": "3.11.6"
  }
 },
 "nbformat": 4,
 "nbformat_minor": 5
}
